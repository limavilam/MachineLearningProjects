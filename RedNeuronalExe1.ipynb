{
 "cells": [
  {
   "cell_type": "code",
   "execution_count": null,
   "id": "218c66e9-2f34-49f4-a994-392bf8b44e9d",
   "metadata": {},
   "outputs": [],
   "source": [
    "#La función es lineal F = C * 1.8 + 32\n",
    "#Se parece a y = mx+b"
   ]
  },
  {
   "cell_type": "code",
   "execution_count": 12,
   "id": "29f6d12f-67ee-45ec-95da-68a70ec7a45d",
   "metadata": {},
   "outputs": [],
   "source": [
    "import tensorflow as tf\n",
    "import numpy as np\n",
    "import matplotlib as plt"
   ]
  },
  {
   "cell_type": "code",
   "execution_count": 4,
   "id": "3beeaa07-3f58-4c37-a7be-ab54be3f7f5c",
   "metadata": {},
   "outputs": [],
   "source": [
    "celsius = np.array([-40,-10,0,8,15,22,38], dtype = float)\n",
    "fahrenheit = np.array([-40,14,32,46,59,72,100], dtype =float)"
   ]
  },
  {
   "cell_type": "code",
   "execution_count": 7,
   "id": "0d8bd107-578c-4bee-98b6-94e35e9407ea",
   "metadata": {},
   "outputs": [],
   "source": [
    "#capa = tf.keras.layers.Dense(units=1, input_shape =[1])\n",
    "#modelo = tf.keras.Sequential([capa])"
   ]
  },
  {
   "cell_type": "code",
   "execution_count": null,
   "id": "059da033-b7bb-43b0-b560-1c69820c45d1",
   "metadata": {},
   "outputs": [],
   "source": [
    "'''\n",
    "Error: error: /opt/anaconda3/envs/mi_env/lib/python3.12/site-packages/keras/src/layers/core/dense.py:87: UserWarning: Do not pass an input_shape/input_dim argument to a layer. When using Sequential models, prefer using an Input(shape) object as the first layer in the model instead.\n",
    "  super().__init__(activity_regularizer=activity_regularizer, **kwargs)\n",
    "  \n",
    "Este warning se debe a que estás usando un argumento input_shape o input_dim directamente en una capa Dense dentro de un modelo secuencial. Keras recomienda no hacerlo, sino utilizar un objeto Input como la primera capa en el modelo secuencial.\n",
    "\n",
    "Solución:\n",
    "En lugar de especificar el input_shape o input_dim directamente en la capa Dense, crea un Input al inicio del modelo. Aquí te muestro cómo modificarlo:\n",
    "\n",
    "Usando Input en lugar de input_shape:\n",
    "\n",
    "\n",
    "from keras.models import Sequential\n",
    "from keras.layers import Dense, Input\n",
    "\n",
    "# Crear un modelo secuencial\n",
    "modelo = Sequential()\n",
    "\n",
    "# Usar Input para especificar la forma de la entrada\n",
    "modelo.add(Input(shape=(1,)))  # Aquí defines la forma de la entrada\n",
    "\n",
    "# Agregar capas densas\n",
    "modelo.add(Dense(64, activation='relu'))\n",
    "modelo.add(Dense(1))\n",
    "\n",
    "# Compilar el modelo\n",
    "modelo.compile(optimizer='adam', loss='mean_squared_error')\n",
    "'''"
   ]
  },
  {
   "cell_type": "code",
   "execution_count": 18,
   "id": "409b5b38-df00-474c-a070-64ca5828ef48",
   "metadata": {},
   "outputs": [],
   "source": [
    "#Agrego más capas, units = 3\n",
    "oculta1 = tf.keras.layers.Dense(units=3, input_shape =[1])\n",
    "oculta2 = tf.keras.layers.Dense(units=3)\n",
    "salida = tf.keras.layers.Dense(units=1)\n",
    "modelo = tf.keras.Sequential([oculta1, oculta2, salida])"
   ]
  },
  {
   "cell_type": "code",
   "execution_count": 19,
   "id": "c9a4c8a7-3ea8-40a4-a02d-f5a6f529404a",
   "metadata": {},
   "outputs": [],
   "source": [
    "#Colocar las propiedades que quiero evaluar en mi modelo\n",
    "modelo.compile(\n",
    "    optimizer = tf.keras.optimizers.Adam(0.1),\n",
    "    loss = 'mean_squared_error'\n",
    ")"
   ]
  },
  {
   "cell_type": "code",
   "execution_count": 20,
   "id": "2110efb9-7e09-4e23-931e-74ae1ae901ad",
   "metadata": {},
   "outputs": [
    {
     "name": "stdout",
     "output_type": "stream",
     "text": [
      "comenzando entrenamiento\n",
      "Modelo entrenado!\n"
     ]
    }
   ],
   "source": [
    "print(\"comenzando entrenamiento\")\n",
    "historial = modelo.fit(celsius,fahrenheit, epochs=1000, verbose =False)\n",
    "print(\"Modelo entrenado!\")"
   ]
  },
  {
   "cell_type": "code",
   "execution_count": 21,
   "id": "096fee2f-f4c5-43ef-bcfa-bef1168dfc57",
   "metadata": {},
   "outputs": [
    {
     "data": {
      "text/plain": [
       "[<matplotlib.lines.Line2D at 0x120207050>]"
      ]
     },
     "execution_count": 21,
     "metadata": {},
     "output_type": "execute_result"
    },
    {
     "data": {
      "image/png": "[encoded data removed]",
      "text/plain": [
       "<Figure size 640x480 with 1 Axes>"
      ]
     },
     "metadata": {},
     "output_type": "display_data"
    }
   ],
   "source": [
    "import matplotlib.pyplot as plt\n",
    "plt.xlabel(\"# Epoca\")\n",
    "plt.ylabel(\"Magnitud de pérdida\")\n",
    "plt.plot(historial.history[\"loss\"])"
   ]
  },
  {
   "cell_type": "code",
   "execution_count": 22,
   "id": "affd5c72-ac54-4306-be1d-24e545100912",
   "metadata": {},
   "outputs": [
    {
     "name": "stdout",
     "output_type": "stream",
     "text": [
      "Predicción\n",
      "\u001b[1m1/1\u001b[0m \u001b[32m━━━━━━━━━━━━━━━━━━━━\u001b[0m\u001b[37m\u001b[0m \u001b[1m0s\u001b[0m 25ms/step\n",
      "El resultado es[[211.74745]]Fahrenheit\n"
     ]
    }
   ],
   "source": [
    "#Hagamos una predicción\n",
    "print (\"Predicción\")\n",
    "# Convertir la entrada en un array de NumPy\n",
    "entrada = np.array([[100.0]])  # Se usa doble corchete para representar una entrada con una dimensión correcta, eso es 100 grados centigrados\n",
    "\n",
    "# Hacer la predicción\n",
    "resultado = modelo.predict(entrada)\n",
    "print (\"El resultado es\" + str(resultado) + \"Fahrenheit\")"
   ]
  },
  {
   "cell_type": "code",
   "execution_count": 23,
   "id": "824465be-652e-45f9-baa2-be927d26f1f9",
   "metadata": {},
   "outputs": [
    {
     "name": "stdout",
     "output_type": "stream",
     "text": [
      "Variables internas del modelo\n",
      "[array([[1.7983776]], dtype=float32), array([31.903032], dtype=float32)]\n"
     ]
    }
   ],
   "source": [
    "print(\"Variables internas del modelo\")\n",
    "#print(capa.get_weights())\n",
    "#imprime el peso en 1.79 y el sesgo en 31.90 para una sola capa"
   ]
  },
  {
   "cell_type": "code",
   "execution_count": 24,
   "id": "152d1786-0269-4af8-84f8-0141e778bea0",
   "metadata": {},
   "outputs": [
    {
     "name": "stdout",
     "output_type": "stream",
     "text": [
      "[array([[ 0.5976614 , -0.5209523 ,  0.01107241]], dtype=float32), array([ 3.5323699, -3.5872064, -3.344552 ], dtype=float32)]\n",
      "[array([[-0.52768844, -0.26735073,  0.5776002 ],\n",
      "       [-0.244091  ,  1.1746912 , -0.20059332],\n",
      "       [ 0.0139002 ,  0.06304248, -1.2936368 ]], dtype=float32), array([-2.7490907, -3.3710644,  3.3414385], dtype=float32)]\n",
      "[array([[-0.48519123],\n",
      "       [-1.44712   ],\n",
      "       [ 1.3572041 ]], dtype=float32), array([3.3156831], dtype=float32)]\n"
     ]
    }
   ],
   "source": [
    "print(oculta1.get_weights())\n",
    "print(oculta2.get_weights())\n",
    "print(salida.get_weights())"
   ]
  }
 ],
 "metadata": {
  "kernelspec": {
   "display_name": "Python 3 (ipykernel)",
   "language": "python",
   "name": "python3"
  },
  "language_info": {
   "codemirror_mode": {
    "name": "ipython",
    "version": 3
   },
   "file_extension": ".py",
   "mimetype": "text/x-python",
   "name": "python",
   "nbconvert_exporter": "python",
   "pygments_lexer": "ipython3",
   "version": "3.12.8"
  }
 },
 "nbformat": 4,
 "nbformat_minor": 5
}
