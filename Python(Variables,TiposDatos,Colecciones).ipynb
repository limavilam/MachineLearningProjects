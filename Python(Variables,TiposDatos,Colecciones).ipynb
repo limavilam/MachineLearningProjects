{
 "cells": [
  {
   "cell_type": "code",
   "execution_count": 5,
   "id": "2cb10b64-ad54-4e66-a36f-ee6d576db938",
   "metadata": {},
   "outputs": [
    {
     "name": "stdout",
     "output_type": "stream",
     "text": [
      "Python 3.12.2\n"
     ]
    }
   ],
   "source": [
    "!python --version"
   ]
  },
  {
   "cell_type": "code",
   "execution_count": 19,
   "id": "8565bb67-6e79-418a-ad28-a872bb08bc53",
   "metadata": {},
   "outputs": [
    {
     "name": "stdin",
     "output_type": "stream",
     "text": [
      "Introduzca su nombre Lina\n"
     ]
    },
    {
     "name": "stdout",
     "output_type": "stream",
     "text": [
      "Hola, Lina\n",
      "Hola Lina\n"
     ]
    }
   ],
   "source": [
    "##Acciones de entrada y salida\n",
    "nombre = input ('Introduzca su nombre')\n",
    "#También puedo imprimir print ( 'Hola ' + nombre)\n",
    "print (f'Hola, {nombre}') ##Es necesaria la f\n",
    "print ( 'Hola ' + nombre)"
   ]
  },
  {
   "cell_type": "code",
   "execution_count": 23,
   "id": "cca89971-26d2-4023-a199-2650e94cb02d",
   "metadata": {},
   "outputs": [
    {
     "name": "stdout",
     "output_type": "stream",
     "text": [
      "100\n",
      "Python\n"
     ]
    }
   ],
   "source": [
    "##Variables: \n",
    "'''\n",
    "Python es debilmente tipado: Esto quiere decir que para almacenar un dato en una variable, \n",
    "no se requiere definir de antemano qué tipo de dato va a representar, simplificando la definición de variables para escribir \n",
    "código rápidamente.\n",
    "\n",
    "Ojo: Python reconoce entre minúsculas y mayúsculas.\n",
    "'''\n",
    "\n",
    "a = 100\n",
    "print(a)\n",
    "\n",
    "a = 'Python'\n",
    "print (a) ##Ahora a es python y el tipo de dato es diferente\n"
   ]
  },
  {
   "cell_type": "code",
   "execution_count": 77,
   "id": "a52e2adc-dd8b-4c7a-a261-0f013af46f72",
   "metadata": {},
   "outputs": [
    {
     "name": "stdout",
     "output_type": "stream",
     "text": [
      "<class 'str'>\n",
      "<class 'int'>\n",
      "La ciencia es divertida Lina\n",
      "La ciencia es divertida 2\n",
      "La ciencia es divertida Lina La ciencia es divertida Lina La ciencia es divertida Lina \n",
      "Quedan 100 minutos.\n",
      "Quedan 100 minutos.\n",
      "Quedan 100 minutos.\n",
      "Quedan 100 minutos.\n"
     ]
    }
   ],
   "source": [
    "##Tipos de datos\n",
    "'''\n",
    "En Python, los tipos de dato no son definidos explícitamente, pero siempre están presentes en las variables que declaramos y\n",
    "es necesario tenerlos en cuenta. En particular, el tipo de dato define las operaciones válidas entre datos del mismo tipo.\n",
    "\n",
    "Ojo se usa la función type\n",
    "'''\n",
    "tipo_dato = 'La ciencia es divertida'\n",
    "tipo_numerico = 2\n",
    "\n",
    "print (type(tipo_dato))\n",
    "print (type (tipo_numerico))\n",
    "\n",
    "#Concatenación\n",
    "\n",
    "#print ({tipo_dato} + {nombre}) No es correcto, no da soporte en conjuntos\n",
    "print (tipo_dato + ' ' + nombre)\n",
    "#print (tipo_dato + ' ' + tipo_numerico) No es correcto, porque estamos mezclando dos tipos de datos\n",
    "print (tipo_dato + ' ' + str(tipo_numerico)) #Especie de casteo \n",
    "\n",
    "#Repetición\n",
    "\n",
    "print ((tipo_dato + ' ' + nombre + ' ')*3)\n",
    "\n",
    "\n",
    "# Formato %\n",
    "\n",
    "num = 100\n",
    "\n",
    "print(\"Quedan \" + str(num) + \" minutos.\")\n",
    "print(\"Quedan %d minutos.\" % num)\n",
    "print(\"Quedan {} minutos.\".format(num)) #.format(), que permite reemplazar fragmentos encerrados en llaves curvadas {} por variables de cualquier tipo pasadas como parámetros de la función\n",
    "print(f'Quedan {num} minutos.') #f como prefijo de una cadena de texto para interpretar los fragmentos encerrados en llaves curvadas {} como fragmentos de código de forma directa."
   ]
  },
  {
   "cell_type": "code",
   "execution_count": null,
   "id": "3ea34df2-6329-45b6-af1a-683146736eeb",
   "metadata": {},
   "outputs": [],
   "source": [
    "'''\n",
    "s una variable con un string:\n",
    "\n",
    "s.lower() : Retorna la cadena con todos los caracteres alfabéticos en minúscula.\n",
    "s.upper() : Retorna la cadena con todos los caracteres alfabéticos en mayúscula.\n",
    "s.replace(a, b) : Reemplaza las subcadenas iguales a la cadena a con el valor de la cadena b.\n",
    "s.strip() : Retorna la cadena con todos los espacios en blanco al principio y al final removidos.\n",
    "s.islower() : Determina si la cadena está compuesta solo por caracteres en mayúscula.\n",
    "s.isupper() : Determina si la cadena está compuesta solo por caracteres en mayúscula.\n",
    "s.isdigit() : Determina si la cadena está compuesta solo por dígitos del 0 al 9.\n",
    "s.isalpha() : Determina si la cadena está compuesta solo por caracteres alfabéticos.\n",
    "\n",
    "'''"
   ]
  },
  {
   "cell_type": "code",
   "execution_count": 91,
   "id": "4ac1c642-1c0c-4e26-a400-cea3a76df1e8",
   "metadata": {},
   "outputs": [
    {
     "name": "stdout",
     "output_type": "stream",
     "text": [
      "one two\n",
      "two one\n"
     ]
    }
   ],
   "source": [
    "#Formatos, más sobre ellos: https://pyformat.info\n",
    "\n",
    "print('{} {}'.format('one', 'two'))\n",
    "print('{1} {0}'.format('one', 'two'))"
   ]
  },
  {
   "cell_type": "code",
   "execution_count": 105,
   "id": "c74e00ad-d571-474b-9da3-924ff820ebef",
   "metadata": {},
   "outputs": [
    {
     "data": {
      "text/plain": [
       "'B@buino'"
      ]
     },
     "execution_count": 105,
     "metadata": {},
     "output_type": "execute_result"
    }
   ],
   "source": [
    "s = 'Babuino'\n",
    "s.replace('a', '@')\n",
    "#print (s.replace ('a', '@'))\n",
    "#s.islower() --Retorna el boolean"
   ]
  },
  {
   "cell_type": "code",
   "execution_count": null,
   "id": "000f41c3-4518-4b7c-abd9-93b192f472e7",
   "metadata": {},
   "outputs": [],
   "source": [
    "#Valores numéricos\n",
    "\n",
    "'''\n",
    "Números enteros. (int)\n",
    "Números decimales. (float)\n",
    "Números complejos. (complex)\n",
    "\n",
    "Existen varios operadores matemáticos para estos valores numéricos. Estos son:\n",
    "Adición: +\n",
    "Substracción: -\n",
    "Multiplicación: *\n",
    "División: /\n",
    "Módulo o residuo: %\n",
    "Exponenciación: **\n",
    "División y función piso: //\n",
    "Además, se pueden usar paréntesis para escribir operaciones compuestas y modificar la precedencia de los operadores.\n",
    "'''\n"
   ]
  },
  {
   "cell_type": "code",
   "execution_count": 109,
   "id": "0cccced5-bf0b-4307-a066-f9e2e0e21af6",
   "metadata": {},
   "outputs": [
    {
     "name": "stdout",
     "output_type": "stream",
     "text": [
      "15 // 2 = 7\n",
      "15 % 2 = 1\n"
     ]
    }
   ],
   "source": [
    "print(f'15 // 2 = {15  //  2}')\n",
    "print(f'15 % 2 = {15  %  2}')"
   ]
  },
  {
   "cell_type": "code",
   "execution_count": null,
   "id": "800d2faa-4b09-4cd7-bf3c-069b56e8b014",
   "metadata": {},
   "outputs": [],
   "source": [
    "#Valores lógicos\n",
    "\n",
    "'''\n",
    "También existen operadores lógicos usados para expresiones booleanas compuestas. Estos son:\n",
    "AND lógico. and\n",
    "OR lógico. or\n",
    "NOT. negación. not\n",
    "'''"
   ]
  },
  {
   "cell_type": "code",
   "execution_count": 117,
   "id": "73fc651c-100b-4917-a8a6-3e8969530ca4",
   "metadata": {},
   "outputs": [
    {
     "name": "stdout",
     "output_type": "stream",
     "text": [
      "True\n",
      "Operador is\n",
      "False\n",
      "True\n"
     ]
    }
   ],
   "source": [
    "a = True\n",
    "b = False\n",
    "\n",
    "# Operaciones compuestas\n",
    "\n",
    "print( (a and b) or (not b) )\n",
    "\n",
    "#Operador is: Valida la identidad de un objeto, ojo es diferente a == que valida la igualdad\n",
    "\n",
    "print('Operador is')\n",
    "c = 1.0\n",
    "d = 1\n",
    "\n",
    "print(c is d) # No tienen el mismo tipo de dato y por lo tanto son objetos distintos.\n",
    "print(c == d) # Contienen el mismo valor al verificar su igualdad.\n"
   ]
  },
  {
   "cell_type": "code",
   "execution_count": null,
   "id": "750b2780-4b98-408e-8c21-8620bb39a282",
   "metadata": {},
   "outputs": [],
   "source": [
    "#Colecciones\n",
    "\n",
    "'''\n",
    "Las colecciones son tipos de datos que permiten almacenar múltiples valores en una misma variable. Python tiene 4 estructuras \n",
    "definidas como primitivas por defecto del lenguaje, que pueden ser definidas con sintaxis especial. \n",
    "Para estructuras más complejas, se suele recurrir a la librería estándar de Python o librerías especializadas como NumPy y Pandas \n",
    "- Listas\n",
    "- Tuplas\n",
    "- Conjuntos\n",
    "- Diccionarios\n",
    "'''\n"
   ]
  },
  {
   "cell_type": "code",
   "execution_count": 195,
   "id": "3b2bcada-d514-4dd2-af3b-be5b571cd59b",
   "metadata": {},
   "outputs": [
    {
     "name": "stdout",
     "output_type": "stream",
     "text": [
      "[1, 2, 3, 4, 5]\n",
      "[1, 'Hola', 4.5]\n",
      "[1, 2.5, [4, 5, 6, 7], 'Fin']\n",
      "<class 'list'>\n",
      "Concatenación\n",
      "[1, 2, 3, 'a', 'b', 'c']\n",
      "Repetición\n",
      "[1, 2, 3, 1, 2, 3, 1, 2, 3]\n",
      "Lista:c,a,b,x\n",
      "Lista con insert:e,c,a,b,x\n",
      "Lista con remove de X : e,c,a,b\n",
      "Lista con remove usando del : e,c,a\n",
      "['e', 'c', 'a']\n",
      "c\n",
      "['e', 'Nuevo valor']\n",
      "True\n",
      "10\n",
      "80\n",
      "[10, 20, 30]\n",
      "[10, 30, 50, 70]\n",
      "[10, 20, 30]\n",
      "[40, 50, 60, 70, 80]\n",
      "[80, 70, 60, 50, 40, 30, 20, 10]\n"
     ]
    }
   ],
   "source": [
    "#Listas\n",
    "\n",
    "'''\n",
    "Existen dos formas de declarar listas en Python:\n",
    "Con llaves cuadradas.    Ejemplo: l = []\n",
    "Con la función list.      Ejemplo: l = list()\n",
    "\n",
    "'''\n",
    "\n",
    "l = [1, 2, 3, 4, 5]\n",
    "print(l)\n",
    "type(l)\n",
    "\n",
    "m = [1, 'Hola', 4.5] #El tipo de dato puede ser diferente\n",
    "print(m)\n",
    "type(m)\n",
    "\n",
    "lista_anidada = [1, 2.5, [4, 5, 6, 7], \"Fin\"] #Puede tener listas anidadas\n",
    "print(lista_anidada)\n",
    "print(type(lista_anidada))\n",
    "\n",
    "#Se pueden realizar operaciones como concatenación y repeticiones \n",
    "\n",
    "l_a = [1, 2, 3]\n",
    "l_b = ['a', 'b', 'c']\n",
    "\n",
    "print ('Concatenación')\n",
    "print(l_a + l_b)\n",
    "print ('Repetición')\n",
    "print(l_a * 3)\n",
    "\n",
    "'''\n",
    "Una vez se declara una lista, su contenido puede variar mediante métodos predeterminados.\n",
    "Estos son algunos de los métodos más comunes para ejecutar en listas:\n",
    "\n",
    "l.append(e) : Agrega el elemento e al final de la lista.\n",
    "l.remove(e) : Elimina la primera aparición del elemento e de la lista.\n",
    "l.insert(i, e) : Agrega el elemento e a la lista en la posición i.\n",
    "l.pop(i) : Elimina y retorna el elemento en la posición i.\n",
    "l.sort() : Ordena los elementos de menor a mayor. Con el argumento reverse = True se puede indicar el orden contrario.\n",
    "l.clear(): Vacía la lista.\n",
    "l.index(e): Retorna la posición del elemento e.\n",
    "l.copy(): Crea y retorna una copia de la lista.\n",
    "\n",
    "'''\n",
    "\n",
    "lista = ['c', 'a', 'b', 'x']\n",
    "print(\"Lista:\"+ \",\".join(lista))\n",
    "\n",
    "lista.insert(0 , 'e')\n",
    "print(\"Lista con insert:\" + \",\".join(lista))\n",
    "\n",
    "lista.remove('x')\n",
    "print(\"Lista con remove de X : \" + ','.join(lista))\n",
    "\n",
    "# Otra forma de eliminar un elemento de la lista por su índice\n",
    "del lista[3]\n",
    "print(\"Lista con remove usando del : \" + ','.join(lista))\n",
    "\n",
    "print(lista)\n",
    "\n",
    "eliminado = lista.pop(1) # Elimina un elemento por su índice y retorna su valor\n",
    "print(eliminado)\n",
    "\n",
    "lista[1] = 'Nuevo valor'\n",
    "print(lista)\n",
    "\n",
    "#El operador in es muy usado para saber si pertenece un elemento a una lista\n",
    "print('e' in lista)\n",
    "\n",
    "'''\n",
    "Además de con métodos, los elementos contenidos en una lista pueden ser accedidos por medio de su índice o posición en la lista.\n",
    "Para esto se usa la sintaxis de llaves cuadradas [ y ]. Dentro de las llaves se indica el índice o el rango de elementos que se\n",
    "desea retornar o modificar, siendo el primer elemento el del índice  0 . Las formas de usar estos índices es la siguiente:\n",
    "\n",
    "l[i]: Se retorna el elemento en la posición i.\n",
    "l[-i]: Si se indican elementos negativos el conteo de la posición se hace desde el final de la lista.\n",
    "l[a:b]: Se retornan los elementos desde la posición a (incluida) hasta la posición b (excluida).\n",
    "l[a:b:n]: Se retornan los elementos desde la posición a (incluida) hasta la posición b (excluida), dando saltos cada n elementos.\n",
    "\n",
    "Los mismos métodos funcionan para listas anidadas\n",
    "'''\n",
    "lista2 = [10, 20, 30, 40, 50, 60, 70, 80]\n",
    "print(lista2[0]) # El elemento en el índice 0 es el de la primera posición.\n",
    "print(lista2[-1]) # El elemento en la posición -1 es el último de la lista.\n",
    "print(lista2[0:3])\n",
    "print(lista2[0:7:2])\n",
    "print(lista2[:3]) # Si no se agrega el inicio, Python lo interpreta como el inicio de la lista.\n",
    "print(lista2[3:]) # Si no se agrega el final, Python lo interpreta como el final de la lista.\n",
    "print(lista2[::-1]) #Se pueden omitir ambos. Si el paso es negativo, se realiza la iteración desde el final.\n"
   ]
  },
  {
   "cell_type": "code",
   "execution_count": 203,
   "id": "44f5fe95-fb53-4649-8a08-38f30363e75a",
   "metadata": {},
   "outputs": [
    {
     "name": "stdout",
     "output_type": "stream",
     "text": [
      "A\n",
      "Univer\n"
     ]
    }
   ],
   "source": [
    "'''\n",
    "OJO: Las cadenas de texto pueden interpretarse como listas de caracteres.\n",
    "Se pueden usar las operaciones con índices de las listas para trocear subcadenas de texto directamente.\n",
    "'''\n",
    "\n",
    "u = \"Análisis y Visualización de Datos con Universidad Nacional - UNAL\"\n",
    "print (u[0])\n",
    "print (u[38:44])"
   ]
  },
  {
   "cell_type": "code",
   "execution_count": 4,
   "id": "c6c34299-388f-488d-914d-32c3e296b294",
   "metadata": {},
   "outputs": [
    {
     "name": "stdout",
     "output_type": "stream",
     "text": [
      "(0, [1, 2, 3], 'cadena')\n"
     ]
    }
   ],
   "source": [
    "#Tuplas\n",
    "\n",
    "'''\n",
    "Las tuplas son casi idénticas a las listas. La única diferencia importante entre ambos tipos de dato es que las tuplas son inmutables.\n",
    "Esto quiere decir que una vez que son declaradas, no es posible modificar sus valores.\n",
    "Una variable con una tupla puede recibir valores distintos, pero los elementos particulares de la tupla son\n",
    "inalterables en toda la ejecución del programa.\n",
    "Las tuplas son declaradas con la sintaxis de paréntesis ( y ), separando los elementos con comas ,. \n",
    "Al igual que con las listas, los tipos de dato de los elementos de una tupla pueden ser distintos.\n",
    "'''\n",
    "\n",
    "tupla = (1, 2, 3)\n",
    "tupla[0] #Retorna el valor de la posicion, en este caso 1\n",
    "#tupla[0] = 'Nuevo valor' --> # las tuplas son inmutables, no se puede reasignar.\n",
    "t = ( 0, [1,2,3], 'cadena') #Puede contener varios tipos de datos\n",
    "print(t)"
   ]
  },
  {
   "cell_type": "code",
   "execution_count": null,
   "id": "bc6f9804-65d2-46bc-af75-660a208e17fd",
   "metadata": {},
   "outputs": [],
   "source": [
    "#Sets , Conjuntos\n",
    "\n",
    "'''\n",
    "Python permite la definición directa de conjuntos con la sintaxis de llaves curvadas {y }, con elementos separados por comas ,. \n",
    "Los conjuntos son colecciones de datos sin orden. Las operaciones definidas en conjuntos corresponden en su mayoría a aquellas \n",
    "del concepto matemático de conjunto. Los elementos no se indexan, sino que se añaden o eliminan directamente. Después, se puede validar \n",
    "si un elemento pertenece o no a un conjunto. Si se desea declarar un conjunto vacío, se tiene que usar la función set().\n",
    "\n",
    "Algunas de las operaciones definidas en conjuntos son.\n",
    "\n",
    "s = set ()\n",
    "\n",
    "s.add(e) : Añade el elemento e al conjunto s. Si ya existe un elemento igual no ocurre nada.\n",
    "s.remove(e) : Elimina el elemento e del conjunto s. Si no existe, arroja un error.\n",
    "s.discard(e) : Elimina el elemento e del conjunto s. Si no existe no ocurre nada.\n",
    "s.pop() : Elimina y retorna un elemento aleatorio del conjunto s.\n",
    "s.clear() : Vacía el conjunto.\n",
    "s.copy() : Retorna una copia del conjunto s.\n",
    "\n",
    "\n",
    "Además, se definen algunos métodos específicos para realizar operaciones entre conjuntos. Para dos conjuntos a y b se definen:\n",
    "\n",
    "a = { 'a', 'b', 'c', 'd', 'e', 'f', 'g'}\n",
    "b = { 'a' ,'b', 'c', 'd', 'e', 'x'}\n",
    "\n",
    "a.difference(b) : Retorna un conjunto con los elementos que están en a pero no en b.\n",
    "a.intersection(b) : Retorna un conjunto con los elementos que están tanto en a como en b.\n",
    "a.union(b) : Retorna un conjunto con los elementos que están en a y los que están en b.\n",
    "a.symmetric_difference(b) : Retorna un conjunto con los elementos que están en a o en b, pero no en ambos.\n",
    "a.issuperset(b) : Evalúa si el conjunto a contiene todos los elementos del conjunto b.\n",
    "a.issubset(b) : Evalúa si todos los elementos del conjunto a pertenecen al conjunto b.\n",
    "a.isdisjoint(b) : Evalúa si los conjuntos a y b son disyuntos. Es decir, si ninguno de sus elementos pertenece al otro conjunto.\n",
    "\n",
    "'''\n",
    "\n"
   ]
  },
  {
   "cell_type": "code",
   "execution_count": 11,
   "id": "1ed40d57-5d6d-4f0f-84ff-78f950322713",
   "metadata": {},
   "outputs": [
    {
     "name": "stdout",
     "output_type": "stream",
     "text": [
      "{1, 2, 3}\n"
     ]
    },
    {
     "data": {
      "text/plain": [
       "{1, 2, 3, 6, 8}"
      ]
     },
     "execution_count": 11,
     "metadata": {},
     "output_type": "execute_result"
    }
   ],
   "source": [
    "s = {1, 2, 3}\n",
    "print(s)\n",
    "\n",
    "# Conjunto construido a partir de una lista\n",
    "set([1, 1, 1, 2, 2, 6, 6, 2, 8, 1, 3])"
   ]
  },
  {
   "cell_type": "code",
   "execution_count": 29,
   "id": "ac2f757d-91b2-408b-bb9c-c7aea3cb52db",
   "metadata": {},
   "outputs": [
    {
     "name": "stdout",
     "output_type": "stream",
     "text": [
      "Diferencia de conjuntos: f g\n",
      "Intersección de conjuntos: c e d b a\n",
      "Unión de conjuntos: f e c d g b a x\n",
      "Elementos que estan en A o B pero no en ambos: g f x\n",
      "Evalúa conjunto a contiene todos los elementos del conjunto b: \n",
      "False\n",
      "Evalúa si todos los elementos del conjunto a pertenecen al conjunto b: \n",
      "False\n",
      "Evalúa si los conjuntos a y b son disyuntos\n",
      "False\n"
     ]
    }
   ],
   "source": [
    "a = { 'a', 'b', 'c', 'd', 'e', 'f', 'g'}\n",
    "b = { 'a' ,'b', 'c', 'd', 'e', 'x'}\n",
    "\n",
    "print(\"Diferencia de conjuntos: \" + \" \".join(a.difference(b)))\n",
    "print (\"Intersección de conjuntos: \" + \" \".join(a.intersection(b)))\n",
    "print (\"Unión de conjuntos: \" + \" \".join(a.union(b)))\n",
    "print (\"Elementos que estan en A o B pero no en ambos: \" + \" \".join(a.symmetric_difference(b)))\n",
    "\n",
    "print (\"Evalúa conjunto a contiene todos los elementos del conjunto b: \")\n",
    "print(a.issuperset(b))       \n",
    "print (\"Evalúa si todos los elementos del conjunto a pertenecen al conjunto b: \")\n",
    "print(a.issubset(b))\n",
    "print (\"Evalúa si los conjuntos a y b son disyuntos\")\n",
    "print(a.isdisjoint(b))"
   ]
  },
  {
   "cell_type": "code",
   "execution_count": null,
   "id": "1f29872d-0756-40ba-8b4b-9158ced7b635",
   "metadata": {},
   "outputs": [],
   "source": [
    "##Diccionarios\n",
    "'''\n",
    "Los diccionarios son una estructura de datos sin orden, como los conjuntos, de pares clave-valor.\n",
    "Las claves que se definen son únicas y permiten consultar los valores almacenados en el diccionario directamente usando\n",
    "la clave en vez de una posición. Al igual que con los conjuntos, se declaran con la notación de llaves curvadas { y } \n",
    "con parejas clave : valor separadas por coma.\n",
    "\n",
    "OJO:\n",
    "\n",
    "Para acceder a los elementos de un diccionario se utiliza una sintaxis similar a la utilizada en listas y tuplas con \n",
    "llaves cuadradas [ y ]. Dentro de las llaves se indica la clave asociada, que puede ser cualquier tipo de dato inmutable\n",
    "como valores numéricos, tuplas, o cadenas de texto. Las claves solo pueden estar asociadas a un elemento, por lo que al asignar \n",
    "valores a una clave previamente ocupada se sobreescribe el valor anterior.\n",
    "\n",
    "'''"
   ]
  },
  {
   "cell_type": "code",
   "execution_count": 31,
   "id": "e037dfbf-7d40-4f01-9b45-c33ff8cc6a1d",
   "metadata": {},
   "outputs": [
    {
     "name": "stdout",
     "output_type": "stream",
     "text": [
      "{'clave': 'valor', 'clave1': 'valor1'}\n"
     ]
    }
   ],
   "source": [
    "clave = 'clave' #Cualquier objeto inmutable, como cadenas, números o tuplas.\n",
    "valor = 'valor'\n",
    "diccionario = {\n",
    "                 clave : valor,\n",
    "                 clave + '1' : valor + '1'\n",
    "              }\n",
    "\n",
    "print(diccionario)"
   ]
  },
  {
   "cell_type": "code",
   "execution_count": 33,
   "id": "cc47e141-4cce-40f9-a43e-a5cf793d9e8a",
   "metadata": {},
   "outputs": [
    {
     "name": "stdout",
     "output_type": "stream",
     "text": [
      "{'a': 'a', (0, 1): 'tupla'}\n"
     ]
    }
   ],
   "source": [
    "d = {}\n",
    "\n",
    "d['a'] = 'a'\n",
    "d[(0,1)] = 'tupla'\n",
    "\n",
    "print(d)"
   ]
  },
  {
   "cell_type": "code",
   "execution_count": 35,
   "id": "8533fa8e-280e-47b5-8d0b-c1f325dbbdad",
   "metadata": {},
   "outputs": [
    {
     "name": "stdout",
     "output_type": "stream",
     "text": [
      "{100: 'elemento 1', 'clave2': 2000}\n"
     ]
    }
   ],
   "source": [
    "d = {100:'elemento 1',\n",
    "     'clave2':2000}\n",
    "\n",
    "print(d)"
   ]
  },
  {
   "cell_type": "code",
   "execution_count": 43,
   "id": "f4f86f07-26f8-42f4-870b-dc960486e1d2",
   "metadata": {},
   "outputs": [
    {
     "data": {
      "text/plain": [
       "2000"
      ]
     },
     "execution_count": 43,
     "metadata": {},
     "output_type": "execute_result"
    }
   ],
   "source": [
    "#d[0]\n",
    "#Saldrá un error. Por eso está comentado.\n",
    "#Los diccionarios no se indexan numéricamente, sino por sus claves y en este caso 0 no es una clave válida.\n",
    "d[100]\n",
    "d['clave2']"
   ]
  },
  {
   "cell_type": "code",
   "execution_count": 45,
   "id": "a53c34b9-8f15-4d90-b3b8-5ff25b260b56",
   "metadata": {},
   "outputs": [],
   "source": [
    "diccionario2 = {'k1':[1, 2, 3, 4, 5], 'k2': 'Hola'}"
   ]
  },
  {
   "cell_type": "code",
   "execution_count": 47,
   "id": "9db4ec56-7a5f-44b0-95d2-b76d6aedf12e",
   "metadata": {},
   "outputs": [
    {
     "data": {
      "text/plain": [
       "[1, 2, 3, 4, 5]"
      ]
     },
     "execution_count": 47,
     "metadata": {},
     "output_type": "execute_result"
    }
   ],
   "source": [
    "diccionario2 ['k1'] ##Devuleve el valor"
   ]
  },
  {
   "cell_type": "code",
   "execution_count": 53,
   "id": "990bbdb8-badf-495a-8d0c-7f31a589cafa",
   "metadata": {},
   "outputs": [
    {
     "name": "stdout",
     "output_type": "stream",
     "text": [
      "[1, 2, 3, 4, 5]\n"
     ]
    }
   ],
   "source": [
    "lista = diccionario2['k1'] #Cambio de diccionario a lista, ahora si puedo llamar de acuerdo a la posición del elemento.\n",
    "print (lista)\n"
   ]
  },
  {
   "cell_type": "code",
   "execution_count": 55,
   "id": "b4fb2355-a252-4ef3-82b8-4b1ed13f3047",
   "metadata": {},
   "outputs": [
    {
     "data": {
      "text/plain": [
       "4"
      ]
     },
     "execution_count": 55,
     "metadata": {},
     "output_type": "execute_result"
    }
   ],
   "source": [
    "lista[3]"
   ]
  },
  {
   "cell_type": "code",
   "execution_count": 57,
   "id": "1edf51fd-c3ba-4f51-a767-042659e26aa5",
   "metadata": {},
   "outputs": [
    {
     "data": {
      "text/plain": [
       "4"
      ]
     },
     "execution_count": 57,
     "metadata": {},
     "output_type": "execute_result"
    }
   ],
   "source": [
    "diccionario2['k1'][3]"
   ]
  },
  {
   "cell_type": "code",
   "execution_count": 59,
   "id": "0e89e50d-e20d-4af8-bc45-8a3b63f4dd6d",
   "metadata": {},
   "outputs": [],
   "source": [
    "# un diccionario anidado dentro de otro diccionario\n",
    "diccionario2 = {'k1':{'1a' : [1, 2, 3, 10]}}"
   ]
  },
  {
   "cell_type": "code",
   "execution_count": 63,
   "id": "79185b3a-a555-4376-882f-ae765dc24511",
   "metadata": {},
   "outputs": [
    {
     "data": {
      "text/plain": [
       "{'1a': [1, 2, 3, 10]}"
      ]
     },
     "execution_count": 63,
     "metadata": {},
     "output_type": "execute_result"
    }
   ],
   "source": [
    "diccionario2['k1']"
   ]
  },
  {
   "cell_type": "code",
   "execution_count": 65,
   "id": "831b6105-fa53-4f0d-a857-ab7737492791",
   "metadata": {},
   "outputs": [
    {
     "data": {
      "text/plain": [
       "[1, 2, 3, 10]"
      ]
     },
     "execution_count": 65,
     "metadata": {},
     "output_type": "execute_result"
    }
   ],
   "source": [
    "diccionario2['k1']['1a']"
   ]
  },
  {
   "cell_type": "code",
   "execution_count": 67,
   "id": "f2c3d387-05ff-4845-af04-c40f45b50219",
   "metadata": {},
   "outputs": [
    {
     "data": {
      "text/plain": [
       "10"
      ]
     },
     "execution_count": 67,
     "metadata": {},
     "output_type": "execute_result"
    }
   ],
   "source": [
    "diccionario2['k1']['1a'][3]"
   ]
  },
  {
   "cell_type": "code",
   "execution_count": 71,
   "id": "922a3a42-e72b-4937-9b4d-3a1d8801cffa",
   "metadata": {},
   "outputs": [],
   "source": [
    "diccionario2 = {'k1':10, 'k2':20, 'k3':1, 'k4': 'hola'}"
   ]
  },
  {
   "cell_type": "code",
   "execution_count": null,
   "id": "01115708-4a9d-4726-a307-b6c9a49870b9",
   "metadata": {},
   "outputs": [],
   "source": [
    "'''\n",
    "Los diccionarios también tienen funciones especiales muy utilizadas. Siendo d un diccionario:\n",
    "\n",
    "d.keys() : Retorna una lista con las claves.\n",
    "d.values() : Retorna una lista con los valores.\n",
    "d.items() : Retorna una lista de tuplas con los pares (clave, valor).\n",
    "\n",
    "IMPORTANTE: El orden en que se almacenan/retornan los elementos no siempre será el mismo.\n",
    "\n",
    "'''"
   ]
  },
  {
   "cell_type": "code",
   "execution_count": 79,
   "id": "f3288c11-d0e4-49f4-87c3-eb0ce4b4820f",
   "metadata": {},
   "outputs": [
    {
     "name": "stdout",
     "output_type": "stream",
     "text": [
      "dict_keys(['k1', 'k2', 'k3', 'k4'])\n",
      "dict_values([10, 20, 1, 'hola'])\n",
      "dict_items([('k1', 10), ('k2', 20), ('k3', 1), ('k4', 'hola')])\n"
     ]
    }
   ],
   "source": [
    "print (diccionario2.keys())\n",
    "print (diccionario2.values())\n",
    "print (diccionario2.items())"
   ]
  },
  {
   "cell_type": "code",
   "execution_count": null,
   "id": "62c4632e-0b8a-441e-92ef-ad9312ddcf87",
   "metadata": {},
   "outputs": [],
   "source": [
    "##Ejercicios del libro Python for Everybody"
   ]
  },
  {
   "cell_type": "code",
   "execution_count": 83,
   "id": "936b40ed-20ec-4f3c-b41f-669e3aceb137",
   "metadata": {},
   "outputs": [
    {
     "name": "stdin",
     "output_type": "stream",
     "text": [
      "Ingrese el nombre para el saludo Lina\n"
     ]
    },
    {
     "name": "stdout",
     "output_type": "stream",
     "text": [
      "Hola Lina\n"
     ]
    }
   ],
   "source": [
    "#2.1\n",
    "\n",
    "Nombre_Ejercicio = input (\"Ingrese el nombre para el saludo\")\n",
    "\n",
    "print(\"Hola \" + Nombre_Ejercicio)"
   ]
  },
  {
   "cell_type": "code",
   "execution_count": 101,
   "id": "972a428d-3c08-4682-bc63-f3620dc56da3",
   "metadata": {},
   "outputs": [
    {
     "name": "stdin",
     "output_type": "stream",
     "text": [
      "Ingrese las horas trabajadas 56\n",
      "Ingrese el valor de la tarifa 78\n"
     ]
    },
    {
     "name": "stdout",
     "output_type": "stream",
     "text": [
      "su salario es: 4368\n"
     ]
    }
   ],
   "source": [
    "#2.2\n",
    "Horas_Trabajadas = input (\"Ingrese las horas trabajadas\")\n",
    "Tarifa_Hora = input (\"Ingrese el valor de la tarifa\")\n",
    "Salario = round(int(Horas_Trabajadas)* int(Tarifa_Hora))\n",
    "\n",
    "print(\"su salario es: \" + str (Salario))"
   ]
  },
  {
   "cell_type": "code",
   "execution_count": 107,
   "id": "368c4d40-378b-415c-8317-14423494c3ab",
   "metadata": {},
   "outputs": [
    {
     "name": "stdin",
     "output_type": "stream",
     "text": [
      "Ingrese la temperatura que desea convertir en °F: 32\n"
     ]
    },
    {
     "name": "stdout",
     "output_type": "stream",
     "text": [
      "La temperatura convertida es: 89.6 °F\n"
     ]
    }
   ],
   "source": [
    "#2.5 \n",
    "Temperatura_Celsius = input ('Ingrese la temperatura que desea convertir en °F:')\n",
    "Temperatura_Fahrenheit = (float(Temperatura_Celsius) * (9/5) + 32)\n",
    "\n",
    "print ('La temperatura convertida es: ' + str (Temperatura_Fahrenheit) + ' °F')"
   ]
  },
  {
   "cell_type": "code",
   "execution_count": null,
   "id": "1f71136c-f798-460a-8ae6-98df1b2ab668",
   "metadata": {},
   "outputs": [],
   "source": [
    "##Ejercicios de tipos de datos"
   ]
  },
  {
   "cell_type": "code",
   "execution_count": 119,
   "id": "ba3aa998-eaf4-46b1-b425-e12fde30285b",
   "metadata": {},
   "outputs": [
    {
     "name": "stdout",
     "output_type": "stream",
     "text": [
      "HolaHolaHola\n",
      "La temperatura convertida es: 89.6 grados\n",
      "La temperatura convertida es: 89.6 grados\n"
     ]
    }
   ],
   "source": [
    "#Repetición con Strings\n",
    "repeticion = 'Hola'\n",
    "print (repeticion*3)\n",
    "\n",
    "print ('La temperatura convertida es: {} grados'.format(Temperatura_Fahrenheit))\n",
    "print (f'La temperatura convertida es: {Temperatura_Fahrenheit} grados')"
   ]
  },
  {
   "cell_type": "code",
   "execution_count": 176,
   "id": "63f792c8-6e9b-4e8a-8958-b16a99cfe28e",
   "metadata": {},
   "outputs": [
    {
     "name": "stdout",
     "output_type": "stream",
     "text": [
      "[1, 3, 5, 7, 9]\n",
      "[1, 10]\n",
      "6\n",
      "[1, 2, 3, 4, 5, 6, 7, 8, 9, 10, 12]\n",
      "[1, 2, 3, 0, 5, 6, 7, 8, 9, 10, 12]\n",
      "[1, 2, 3, 0, 5, 6, 7, 8, 9, 12]\n",
      "53\n",
      "12\n",
      "0\n",
      "1\n"
     ]
    }
   ],
   "source": [
    "##Ejercicios de Listas\n",
    "Lista_Ejercicio = [1,2,3,4,5,6,7,8,9,10]\n",
    "print (Lista_Ejercicio[0::2])\n",
    "print (Lista_Ejercicio[0::9])\n",
    "print (Lista_Ejercicio[5])\n",
    "\n",
    "Lista_Ejercicio.append(12)\n",
    "print(Lista_Ejercicio)\n",
    "\n",
    "Lista_Ejercicio[3]=0\n",
    "print(Lista_Ejercicio)\n",
    "\n",
    "Lista_Ejercicio.remove(10)\n",
    "print(Lista_Ejercicio)\n",
    "\n",
    "print (sum(Lista_Ejercicio))\n",
    "print (max(Lista_Ejercicio))\n",
    "print (min(Lista_Ejercicio))\n",
    "contador = Lista_Ejercicio.count(2)\n",
    "\n",
    "print(contador)"
   ]
  },
  {
   "cell_type": "code",
   "execution_count": 36,
   "id": "7f7e61eb-3b03-4c1f-8b0d-1171cca40d3a",
   "metadata": {},
   "outputs": [
    {
     "name": "stdout",
     "output_type": "stream",
     "text": [
      "[10, 9, 8, 7, 6, 5, 4, 3, 2, 1]\n",
      "Listas unidadas\n",
      "[10, 9, 8, 7, 6, 5, 4, 3, 2, 1, 'a', 'b', 'c']\n",
      "Listas unidadas parte 2\n",
      "[10, 9, 8, 7, 6, 5, 4, 3, 2, 1, 'a', 'b', 'c']\n",
      "Listas unidadas parte 3\n",
      "[[10, 9, 8, 7, 6, 5, 4, 3, 2, 1, 'a', 'b', 'c'], ['a', 'b', 'c']]\n"
     ]
    }
   ],
   "source": [
    "##Ejercicios de listas\n",
    "##l.sort() : Ordena los elementos de menor a mayor. Con el argumento reverse = True se puede indicar el orden contrario.\n",
    "Lista_Ejercicio = [1,2,3,4,5,6,7,8,9,10]\n",
    "Lista_Unir = ['a','b','c']\n",
    "\n",
    "Lista_Ejercicio.reverse()\n",
    "print(Lista_Ejercicio)\n",
    "\n",
    "print(\"Listas unidadas\")\n",
    "print (Lista_Ejercicio + Lista_Unir)\n",
    "print(\"Listas unidadas parte 2\")\n",
    "Lista_Ejercicio.extend(Lista_Unir) #Extend no crea una nueva lista, modifica la lista que se pasa. \n",
    "print(Lista_Ejercicio)\n",
    "print(\"Listas unidadas parte 3\")\n",
    "res = []\n",
    "res.append(Lista_Ejercicio)\n",
    "res.append(Lista_Unir)\n",
    "print(res)\n",
    "\n",
    "\n",
    "\n",
    "\n"
   ]
  },
  {
   "cell_type": "code",
   "execution_count": 92,
   "id": "bb61111f-8ac0-4352-904c-00d14dc1760f",
   "metadata": {},
   "outputs": [
    {
     "name": "stdout",
     "output_type": "stream",
     "text": [
      "<class 'tuple'>\n",
      "('Lunes', 'Martes', 'Miércoles', 'Jueves', 'Viernes')\n",
      "('Lunes', 'Viernes')\n",
      "Miércoles\n",
      "Tuplas unidas\n",
      "('Lunes', 'Martes', 'Miércoles', 'Jueves', 'Viernes', 1, 2, 3, 4, 5)\n",
      "Repetición de tuplas\n",
      "(1, 2, 3, 4, 5, 1, 2, 3, 4, 5, 1, 2, 3, 4, 5)\n",
      "Cuántas veces a parece un elemento en una tupla\n",
      "1\n",
      "longitud de la tupla\n",
      "5\n",
      "Convertir una lista en una tupla\n",
      "<class 'tuple'>\n",
      "(10, 20, 30, 40, 50)\n",
      "Convertir una cadena en una tupla de caracteres\n",
      "('H', 'o', 'l', 'a', ',', ' ', 'm', 'u', 'n', 'd', 'o', '!')\n"
     ]
    }
   ],
   "source": [
    "##Ejercicios de tuplas\n",
    "\n",
    "##1. Básicos: Crea una tupla con los días de la semana, imprimir el primer y última día, acceder al tercer día. \n",
    "\n",
    "Dias_Semana = ('Lunes', 'Martes', 'Miércoles', 'Jueves', 'Viernes')\n",
    "print(type(Dias_Semana))\n",
    "print(Dias_Semana)\n",
    "\n",
    "print(Dias_Semana[0::4])\n",
    "print(Dias_Semana[2])\n",
    "\n",
    "##Concatena dos tuplas, repetir 3 veces la tupla, cuántas veces aparece un elemento en una tupla, obtener la longitud de una tupla\n",
    "\n",
    "Numeros = (1,2,3,4,5)\n",
    "print (\"Tuplas unidas\")\n",
    "print (Dias_Semana + Numeros)\n",
    "print ('Repetición de tuplas')\n",
    "print (Numeros*3)\n",
    "print ('Cuántas veces a parece un elemento en una tupla')\n",
    "contador = Numeros.count(2)\n",
    "print (contador)\n",
    "print('longitud de la tupla')\n",
    "print (len(Numeros))\n",
    "\n",
    "#Convertir una lista en una tupla\n",
    "print ('Convertir una lista en una tupla')\n",
    "Lista_Convertir = [10,20,30,40,50]\n",
    "Tupla_Nueva = tuple(Lista_Convertir)\n",
    "print(type(Tupla_Nueva))\n",
    "print(Tupla_Nueva)\n",
    "\n",
    "print ('Convertir una cadena en una tupla de caracteres')\n",
    "mi_cadena = \"Hola, mundo!\"\n",
    "mi_tupla = tuple(mi_cadena)\n",
    "print(mi_tupla) \n"
   ]
  },
  {
   "cell_type": "code",
   "execution_count": 94,
   "id": "649536b8-5a5d-448a-95ee-4821fdd57bce",
   "metadata": {},
   "outputs": [],
   "source": [
    "##Ejercicios de conjuntos\n",
    "\n",
    "# Creación y operaciones básicas\n",
    "conjunto_numeros = {1, 2, 3, 4, 5}\n",
    "conjunto_vocales = {'a', 'e', 'i', 'o', 'u'}\n",
    "conjunto_numeros.add(3)  # No hace nada porque 3 ya está en el conjunto\n",
    "conjunto_numeros.remove(2)  # Elimina el 2 del conjunto\n",
    "\n",
    "# Eliminación de duplicados\n",
    "lista_con_duplicados = [1, 2, 2, 3, 4, 4]\n",
    "conjunto_sin_duplicados = set(lista_con_duplicados)\n",
    "lista_sin_duplicados = list(conjunto_sin_duplicados)\n",
    "\n",
    "# Comprensión de conjuntos\n",
    "cuadrados_pares = {x**2 for x in range(1, 21) if x % 2 == 0}"
   ]
  },
  {
   "cell_type": "code",
   "id": "74115793-9286-417b-84f0-15ecf21c9292",
   "metadata": {
    "jupyter": {
     "is_executing": true
    }
   },
   "source": [
    "##Ejercicios de diccionarios\n",
    "\n",
    "# Creación y acceso\n",
    "persona = {\"nombre\": \"Juan\", \"edad\": 30, \"ciudad\": \"Madrid\"}\n",
    "print(persona[\"edad\"])\n",
    "\n",
    "# Diccionario anidado\n",
    "tienda = {\"manzana\": {\"pequeña\": 0.5, \"grande\": 1}, \"banana\": 0.75}\n",
    "\n",
    "# Comprensión de diccionarios\n",
    "cuadrados = {x: x**2 for x in range(1, 11)}"
   ],
   "outputs": [],
   "execution_count": null
  }
 ],
 "metadata": {
  "kernelspec": {
   "display_name": "Python 3 (ipykernel)",
   "language": "python",
   "name": "python3"
  },
  "language_info": {
   "codemirror_mode": {
    "name": "ipython",
    "version": 3
   },
   "file_extension": ".py",
   "mimetype": "text/x-python",
   "name": "python",
   "nbconvert_exporter": "python",
   "pygments_lexer": "ipython3",
   "version": "3.12.2"
  }
 },
 "nbformat": 4,
 "nbformat_minor": 5
}
