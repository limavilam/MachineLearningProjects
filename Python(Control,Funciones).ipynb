{
 "cells": [
  {
   "cell_type": "code",
   "execution_count": 3,
   "id": "0a5e8618-4cbe-4fe8-80e8-88b7e39c4bdf",
   "metadata": {},
   "outputs": [
    {
     "name": "stdin",
     "output_type": "stream",
     "text": [
      " 2\n"
     ]
    },
    {
     "name": "stdout",
     "output_type": "stream",
     "text": [
      "2 es un número positivo.\n"
     ]
    }
   ],
   "source": [
    "#Control de flujo: Expresiones condicionales\n",
    "'''\n",
    "if condicion:\n",
    "    bloque\n",
    "'''     "
   ]
  },
  {
   "cell_type": "code",
   "execution_count": 12,
   "id": "405b63c7-4c04-43f6-9b17-a8100c918bff",
   "metadata": {},
   "outputs": [
    {
     "name": "stdin",
     "output_type": "stream",
     "text": [
      "Ingrese un número 34\n"
     ]
    },
    {
     "name": "stdout",
     "output_type": "stream",
     "text": [
      "34 es un número positivo.\n",
      "Sí\n"
     ]
    }
   ],
   "source": [
    "x = input(\"Ingrese un número\")\n",
    "if x.isnumeric():\n",
    "    if int(x)>0:\n",
    "        print(f'{x} es un número positivo.')\n",
    "        if (10>2):\n",
    "            print('Sí')"
   ]
  },
  {
   "cell_type": "code",
   "execution_count": 15,
   "id": "1bf5d772-99f4-47d9-9899-f88cd9ddad60",
   "metadata": {},
   "outputs": [
    {
     "name": "stdin",
     "output_type": "stream",
     "text": [
      "Ingrese un número -1\n"
     ]
    },
    {
     "name": "stdout",
     "output_type": "stream",
     "text": [
      "-1 NO es un número entero.\n"
     ]
    }
   ],
   "source": [
    "'''\n",
    "if condicion :\n",
    "   bloque 1\n",
    "else:\n",
    "   bloque 2\n",
    "'''\n",
    "\n",
    "# Código que evalúa si un dato es un número entero, y si lo es, si es par o impar.\n",
    "\n",
    "x = input (\"Ingrese un número\")\n",
    "\n",
    "if x.isdigit():\n",
    "    if int(x)% 2 == 0:\n",
    "        print(f'{x} es número par.')\n",
    "    else:\n",
    "        print (f'{x} no es un número par.')\n",
    "else:\n",
    "    print(f'{x} NO es un número entero.')\n",
    "    \n"
   ]
  },
  {
   "cell_type": "code",
   "execution_count": 17,
   "id": "c642ee29-1575-462b-b43f-7b5aca8062fd",
   "metadata": {},
   "outputs": [
    {
     "name": "stdin",
     "output_type": "stream",
     "text": [
      " -231\n"
     ]
    },
    {
     "name": "stdout",
     "output_type": "stream",
     "text": [
      "-231 NO es un número entero.\n"
     ]
    }
   ],
   "source": [
    "'''\n",
    "if condicion1 :\n",
    "   bloque 1\n",
    "elif condicion2:\n",
    "   bloque 2\n",
    "else:\n",
    "   bloque 3\n",
    "'''\n",
    "\n",
    "# Código para evaluar si un dato es un número entero, y si lo es, evaluar si es divisible por 2, 3, 5 o por ninguno.\n",
    "\n",
    "x = input()\n",
    "if x.isdigit():\n",
    "  if int(x) % 2 == 0:\n",
    "    print(f'{x}  es divisible por 2.')\n",
    "  elif int(x) % 3 == 0:\n",
    "    # <--- La indentación del elif también está al mismo nivel del if original.\n",
    "    print(f'{x} es divisible por 3.')\n",
    "  elif int(x) % 5 == 0:\n",
    "    # <--- En cada uno de los elif declarados.\n",
    "    print(f'{x} es divisible por 5.')\n",
    "  else:\n",
    "    # <--- El else también está igualmente indentado, y debe ser el último bloque.\n",
    "    print(f'{x} NO es divisible por 2, 3 o 5.')\n",
    "else:\n",
    "  print(f'{x} NO es un número entero.')"
   ]
  },
  {
   "cell_type": "code",
   "execution_count": 18,
   "id": "583ec618-be61-41ef-af3c-aab75569b793",
   "metadata": {},
   "outputs": [
    {
     "name": "stdout",
     "output_type": "stream",
     "text": [
      "No\n",
      "No\n"
     ]
    }
   ],
   "source": [
    "#Existe una versión simplificada para la asignacion de valores a variables dependiendo de una condición lógica. \n",
    "\n",
    "# Asignación condicional usando if else\n",
    "condición = False\n",
    "\n",
    "if condición:\n",
    "  a = 'Sí'\n",
    "else:\n",
    "  a = 'No'\n",
    "print(a)\n",
    "\n",
    "#Asignación condicional con operador ternario\n",
    "\n",
    "a = 'Sí' if condición else 'No'\n",
    "print(a)"
   ]
  },
  {
   "cell_type": "code",
   "execution_count": 20,
   "id": "01025ffc-722d-4b11-b92b-196875a32ce5",
   "metadata": {},
   "outputs": [
    {
     "name": "stdout",
     "output_type": "stream",
     "text": [
      "0\n",
      "1\n",
      "4\n",
      "9\n",
      "16\n",
      "[0, 1, 4, 9, 16]\n"
     ]
    }
   ],
   "source": [
    "#BUCLES \n",
    "\n",
    "'''\n",
    "Repetir un bloque indeterminado de veces. \n",
    "\n",
    "While: El while funciona como una expresión if, con la diferencia que el bloque definido dentro de una expresión while\n",
    "se repite indefinidamente mientras una condición lógica se cumpla. Para evitar bucles infinitos y que el programa no se detenga, \n",
    "es necesario que dentro del while se altere alguna variable que componga la condición lógica, y que esta pueda conducir \n",
    "a un resultado False en algún momento de la ejecución.\n",
    "'''\n",
    "\n",
    "lista = []\n",
    "i = 0\n",
    "while i<5:\n",
    "    lista.append(i*i)\n",
    "    print(i*i)\n",
    "    i = i + 1\n",
    "print(lista)"
   ]
  },
  {
   "cell_type": "code",
   "execution_count": 21,
   "id": "b0ad9734-1237-45a1-8e14-8b105c28ab3e",
   "metadata": {},
   "outputs": [
    {
     "name": "stdout",
     "output_type": "stream",
     "text": [
      "[16, 9, 4, 1, 0]\n"
     ]
    }
   ],
   "source": [
    "#Código para llenar lista del cuadrado de números enteros menores que 5, empezando en 4 y retrocediendo hasta 0.\n",
    "\n",
    "lista = []\n",
    "i = 4\n",
    "while i >= 0:\n",
    "    lista.append(i*i)\n",
    "    i = i-1\n",
    "print(lista)"
   ]
  },
  {
   "cell_type": "code",
   "execution_count": 22,
   "id": "3573663b-b222-4148-bd3d-0e8caaa1ea20",
   "metadata": {},
   "outputs": [
    {
     "name": "stdout",
     "output_type": "stream",
     "text": [
      "i es igual a: 1\n",
      "i es igual a: 2\n",
      "i es igual a: 3\n",
      "i es igual a: 4\n"
     ]
    }
   ],
   "source": [
    "i = 1\n",
    "while i < 5:\n",
    "    print('i es igual a: {}'.format(i))\n",
    "    i = i + 1"
   ]
  },
  {
   "cell_type": "code",
   "execution_count": 23,
   "id": "892fe83c-6225-4ef8-9024-9f9c2ceb3c23",
   "metadata": {},
   "outputs": [
    {
     "name": "stdout",
     "output_type": "stream",
     "text": [
      "1\n",
      "3\n",
      "4\n",
      "5\n",
      "6\n",
      "Fuera del bucle\n"
     ]
    }
   ],
   "source": [
    "'''\n",
    "continue: permite saltarse el fragmento de código restante de la iteración y evaluar la siguiente.\n",
    "break: permite acabar el bucle y continuar con el código justo después.\n",
    "'''\n",
    "i = 0\n",
    "while (True): # Usar con PRECAUCIÓN. Una expresión como esta puede producir un bucle infinito.\n",
    "  i += 1      # Cambiar el objeto para que la condición evaluada también varíe.\n",
    "\n",
    "  if (i == 2):\n",
    "    continue  # Lo que resta del bucle no se ejecuta si se añade un continue.\n",
    "\n",
    "  print(i)\n",
    "  if (i > 5):\n",
    "    break     # El bucle termina inmediatamente.\n",
    "\n",
    "print('Fuera del bucle')"
   ]
  },
  {
   "cell_type": "code",
   "execution_count": 2,
   "id": "fada9899-a091-455c-97f7-704404dba647",
   "metadata": {},
   "outputs": [
    {
     "name": "stdout",
     "output_type": "stream",
     "text": [
      "1\n",
      "a\n",
      "[10, 20, 30]\n",
      "Fin\n"
     ]
    }
   ],
   "source": [
    "\"\"\"\n",
    "FOR:\n",
    "Iterar sobre los elementos de una colección y operaciones sobre cada uno. ara esto se utiliza el bucle de iteración for,\n",
    "que como su nombre lo indica, permite iterar sobre un objeto iterable, como colecciones o generadores, y ejecutar un bloque de código \n",
    "para cada uno de ellos. Estos bucles van acompañados por el operador in, que define la pertenencia de un elemento en una colección.\n",
    "Usar for permite declarar el elemento al inicio de cada iteración. Se define con la siguiente sintaxis:\n",
    "\n",
    "for elemento in iterable:  bloque...\n",
    "\"\"\"\n",
    "\n",
    "iterable = [1, 'a', [10, 20, 30]]\n",
    "for i in iterable:\n",
    "  # <---- El bloque de código dentro del for también debe estar correctamente indentado.\n",
    "  print(i)\n",
    "# <---- A partir de aquí, el código escrito está por fuera del bucle for.\n",
    "print('Fin')"
   ]
  },
  {
   "cell_type": "code",
   "execution_count": null,
   "id": "aab2d3b5-f4c2-47d4-a1e3-bac70c696ae0",
   "metadata": {},
   "outputs": [],
   "source": [
    "\"\"\"\n",
    "Range: La función generadora range es muy usada junto a los bucles for. Con esta, se define un rango de valores numéricos \n",
    "en un objeto de tipo range, que no almacena en memoria todos los elementos, sino que genera el siguiente en cada iteración.\n",
    "\n",
    "Esta función puede aceptar hasta tres parámetros. Conforme los acepta se interpretan así:\n",
    "\n",
    "range(final): Elementos del 0 al final, de uno en uno. El número final no se incluye.\n",
    "\n",
    "range(inicio, final): Elementos del inicio (incluido) al final (excluido), de uno en uno.\n",
    "\n",
    "range(inicio, final, paso): Elementos del inicio (incluido) al final (excluido), dando pasos de tamaño paso.\n",
    "\"\"\""
   ]
  },
  {
   "cell_type": "code",
   "execution_count": 6,
   "id": "c4d0b071-3204-4924-af04-6ca296d5b13e",
   "metadata": {},
   "outputs": [
    {
     "name": "stdout",
     "output_type": "stream",
     "text": [
      "range(5)\n",
      "[1, 3, 5, 7, 9]\n"
     ]
    }
   ],
   "source": [
    "# range estándar\n",
    "\n",
    "print('range(5)')\n",
    "l = []\n",
    "for i in range(1,10,2):\n",
    "  l.append(i)\n",
    "\n",
    "print(l)"
   ]
  },
  {
   "cell_type": "code",
   "execution_count": 9,
   "id": "27d73f71-8277-49e3-b513-7933c20c9593",
   "metadata": {},
   "outputs": [
    {
     "name": "stdout",
     "output_type": "stream",
     "text": [
      "\n",
      "range(8, 1, -2)\n",
      "[8, 6, 4, 2]\n"
     ]
    }
   ],
   "source": [
    "# range con paso negativo\n",
    "\n",
    "print('\\nrange(8, 1, -2)')\n",
    "l = []\n",
    "for i in range(8, 1, -2):\n",
    "  l.append(i)\n",
    "\n",
    "print(l)"
   ]
  },
  {
   "cell_type": "code",
   "execution_count": 10,
   "id": "781ca00a-e6ea-41d5-9b07-656427fb5f72",
   "metadata": {},
   "outputs": [
    {
     "name": "stdout",
     "output_type": "stream",
     "text": [
      "[0, 4, 16]\n",
      "{'0': 0, '1': 1, '2': 4, '3': 9, '4': 16, '5': 25, '6': 36, '7': 49, '8': 64, '9': 81, '10': 100}\n",
      "{0, 1, 2, 3, 4, 5, 6, 8, 9, 10, 12, 15, 16, 20, 25}\n"
     ]
    }
   ],
   "source": [
    "#Comprensión de listas, diccionarios\n",
    "# Usando comprensión de listas con condicional\n",
    "l = [x * x for x in range(5) if x % 2 == 0]\n",
    "print(l)\n",
    "\n",
    "#Comprensión de diccionarios\n",
    "cuadrados = {str(x) : x * x for x in range(11)}\n",
    "print(cuadrados)\n",
    "\n",
    "#Comprensión de conjuntos\n",
    "productos = {x * y for x in range(6) for y in range(6)}\n",
    "print(productos)"
   ]
  },
  {
   "cell_type": "code",
   "execution_count": 11,
   "id": "5261d05a-7977-438a-97de-57043424d353",
   "metadata": {},
   "outputs": [],
   "source": [
    "\"\"\"\n",
    "FUNCIONES\n",
    "A diferencia de la noción matemática de función, en Python las funciones pueden tener efectos secundarios y \n",
    "no retornar siempre el mismo resultado. Estos efectos son aquellos que, como el uso de operaciones de entrada y salida, \n",
    "operaciones con números aleatorios o cambios en el estado global del programa, pueden afectar el resultado devuelto por \n",
    "la función para los mismo parámetros de entrada.\n",
    "\n",
    "En Python las funciones son un tipo de dato más. Pueden ser asignadas a variables y pasadas como parámetros a otras funciones. \n",
    "Cuando se usa la palabra reservada def para la definición de variables, se realiza la asignación de una variable con el nombre \n",
    "de la función definida con el objeto function creado.\n",
    "\n",
    "\"\"\"\n",
    "\n",
    "def mi_funcion(argumento_1, argumento_2):\n",
    "  \"\"\"\n",
    "  Esta es la documentación de la función. Toma dos parámetros y retorna dos salidas.\n",
    "\n",
    "  Parámetros (argumentos):\n",
    "  argumento_1: ...\n",
    "  argumento_2: ...\n",
    "\n",
    "  Retorna una tupla con dos valores: el primero es un conjunto, el segundo es una lista ...\n",
    "\n",
    "  \"\"\"\n",
    "\n",
    "  #El nombre de la función puede ser cualquiera que respete las reglas para definición de variables.\n",
    "  #Los argumentos de entrada se indican separados por coma entre paréntesis, justo después del nombre de la función\n",
    "\n",
    "  #El bloque de código de la función está indentado como al usar if, while y for.\n",
    "\n",
    "  salida_1 = {argumento_1, argumento_2} # Conjunto de argumentos de entrada.\n",
    "  salida_2 = [argumento_1, argumento_2] # Lista de argumentos de entrada.\n",
    "\n",
    "\n",
    "  # Al separar con comas se retorna una tupla con los valores retornados.\n",
    "  # Pueden tener cualquier tipo de dato.\n",
    "\n",
    "  return salida_1, salida_2"
   ]
  },
  {
   "cell_type": "code",
   "execution_count": 12,
   "id": "dcb12ef8-b22c-461a-99f2-8cbd29d89b9c",
   "metadata": {},
   "outputs": [
    {
     "data": {
      "text/plain": [
       "({2, 3}, [2, 3])"
      ]
     },
     "execution_count": 12,
     "metadata": {},
     "output_type": "execute_result"
    }
   ],
   "source": [
    "# Llamado a la función\n",
    "mi_funcion(2, 3)"
   ]
  },
  {
   "cell_type": "code",
   "execution_count": 13,
   "id": "0bcc6ec3-b3fb-41a1-9a97-c56cdd2f4eef",
   "metadata": {},
   "outputs": [
    {
     "name": "stdout",
     "output_type": "stream",
     "text": [
      "1 2 3\n",
      "[4, 5, 6]\n"
     ]
    }
   ],
   "source": [
    "(a, b, c, *d) = (1, 2, 3, 4, 5, 6)\n",
    "print(a, b, c)\n",
    "print(d)"
   ]
  },
  {
   "cell_type": "code",
   "execution_count": 14,
   "id": "748b6360-6d88-42cc-bb40-aa46559a8713",
   "metadata": {},
   "outputs": [
    {
     "name": "stdout",
     "output_type": "stream",
     "text": [
      "1 [2, 3, 4] 5 6\n"
     ]
    }
   ],
   "source": [
    "(a, *b, c, d) = (1, 2, 3, 4, 5, 6)\n",
    "print(a, b, c, d)"
   ]
  },
  {
   "cell_type": "code",
   "execution_count": 16,
   "id": "6e63a836-f845-49a0-9c62-048d29c8e17e",
   "metadata": {},
   "outputs": [
    {
     "name": "stdout",
     "output_type": "stream",
     "text": [
      "10 20\n",
      "-> 30\n",
      "-> 40\n",
      "-> 50\n"
     ]
    }
   ],
   "source": [
    "def funcion_parametros_variables(a, b, *c):\n",
    "  print(a, b)\n",
    "  for i in c:\n",
    "    print(\"-> \" + str(i))\n",
    "\n",
    "funcion_parametros_variables(10, 20, 30, 40, 50)"
   ]
  },
  {
   "cell_type": "code",
   "execution_count": 21,
   "id": "ed8c73c8-0681-4b5b-9088-ef6c963c8dc7",
   "metadata": {},
   "outputs": [
    {
     "name": "stdout",
     "output_type": "stream",
     "text": [
      "1\n",
      "2\n",
      "[3, 6, 90]\n"
     ]
    }
   ],
   "source": [
    "def devuelve_varios():\n",
    "  return 1, 2, 3, 6, 90\n",
    "\n",
    "a, b, *c = devuelve_varios()\n",
    "print(a)\n",
    "print(b)\n",
    "print(c)\n",
    "\n"
   ]
  },
  {
   "cell_type": "code",
   "execution_count": 23,
   "id": "f49f289f-0601-464a-aa16-17dc1b4dba87",
   "metadata": {},
   "outputs": [],
   "source": [
    "def inverso(parámetro):\n",
    "  return str(parámetro)[::-1]"
   ]
  },
  {
   "cell_type": "code",
   "execution_count": null,
   "id": "d0dd0570-3814-4398-8310-3690dec80b46",
   "metadata": {},
   "outputs": [],
   "source": [
    "\"\"\"\n",
    "EXPRESIONES LAMBDA\n",
    "\n",
    "Usado para la definición de variables anónimas en una sola línea.Esto se consigue con el operador lambda, \n",
    "que define una sintaxis simplificada para la definición de funciones cortas. Para esto, en la misma línea se escriben \n",
    "los argumentos y valores de retorno separados por el símbolo :. Si son múltiples valores de entrada o salida se pueden \n",
    "separan adicionalmente por coma,.\n",
    "\n",
    "\"\"\""
   ]
  },
  {
   "cell_type": "code",
   "execution_count": 7,
   "id": "e0264904-e81b-4e6e-ae67-f665b7f51f57",
   "metadata": {},
   "outputs": [
    {
     "name": "stdout",
     "output_type": "stream",
     "text": [
      "(10, 2)\n"
     ]
    }
   ],
   "source": [
    "#Funciones normales\n",
    "def sumar_uno(a,b):\n",
    "    suma = a + b\n",
    "    resta = a-b\n",
    "    return suma, resta\n",
    "\n",
    "\n",
    "operaciones = sumar_uno(6,4)\n",
    "print(operaciones)\n",
    "    "
   ]
  },
  {
   "cell_type": "code",
   "execution_count": 9,
   "id": "83483a06-48b7-48c6-8e5e-ab4157388113",
   "metadata": {},
   "outputs": [
    {
     "name": "stdout",
     "output_type": "stream",
     "text": [
      "(10, 2)\n"
     ]
    }
   ],
   "source": [
    "#Función Lambda\n",
    "\n",
    "sumar_uno = lambda a,b:(a+b, a-b)\n",
    "print(sumar_uno(6,4))"
   ]
  },
  {
   "cell_type": "code",
   "execution_count": 11,
   "id": "86bb8bc9-0b72-40ae-baa6-7182c1bf9882",
   "metadata": {},
   "outputs": [
    {
     "data": {
      "text/plain": [
       "(10, 2)"
      ]
     },
     "execution_count": 11,
     "metadata": {},
     "output_type": "execute_result"
    }
   ],
   "source": [
    "# No es obligatorio asignar lambdas a una variable.\n",
    "# Pueden ejecutarse directamente si se encierran entre paréntesis.\n",
    "\n",
    "(lambda a,b:(a+b, a-b))(6,4)\n"
   ]
  },
  {
   "cell_type": "code",
   "execution_count": null,
   "id": "e2728908-22a0-4eef-a399-874b2a72fc32",
   "metadata": {},
   "outputs": [],
   "source": []
  },
  {
   "cell_type": "code",
   "execution_count": null,
   "id": "e6547116-694a-4f5a-8992-3dd375ccbcfc",
   "metadata": {},
   "outputs": [],
   "source": []
  },
  {
   "cell_type": "code",
   "execution_count": 23,
   "id": "79a8e398-79e8-4ce1-b9ca-b7aeaf00ff9e",
   "metadata": {},
   "outputs": [
    {
     "name": "stdout",
     "output_type": "stream",
     "text": [
      "<map object at 0x1193c6260>\n"
     ]
    },
    {
     "data": {
      "text/plain": [
       "[100, 1, 2, 3, 200, 333]"
      ]
     },
     "execution_count": 23,
     "metadata": {},
     "output_type": "execute_result"
    }
   ],
   "source": [
    "\"\"\"\n",
    "MAP\n",
    "\n",
    "Existen muchas funciones que vienen por defecto con Python y que se pueden ejecutar cuando se desee. \n",
    "Estas también tienen el comportamiento de objetos function y pueden ser usadas directamente como argumento.\n",
    "\n",
    "La función map permite iterar una coleccion y producir otra colección obtenida al ejecutar una función sobre cada uno de sus elementos.\n",
    "\"\"\"\n",
    "\n",
    "# En este ejemplo se busca leer una secuencia de números\n",
    "# y convertirla de cadena de texto a tipo de dato numérico.\n",
    "entrada = '100 1 2 3 200 333'\n",
    "#La función split separa por espacios en blanco la cadena obtenida dejándola en forma de lista.\n",
    "entrada = entrada.split()\n",
    "\n",
    "# Se busca aplicar la función int a cada valor de la entrada y convertir su tipo de dato.\n",
    "entrada_mapeada = map(int, entrada)\n",
    "\n",
    "\n",
    "print(entrada_mapeada)\n",
    "list(entrada_mapeada)\n"
   ]
  },
  {
   "cell_type": "code",
   "execution_count": 25,
   "id": "af7d0035-825c-4cbf-a61c-2a8a5ae62b17",
   "metadata": {},
   "outputs": [
    {
     "name": "stdout",
     "output_type": "stream",
     "text": [
      "Valor: 1 Tipo: <class 'int'>\n",
      "Valor: 2 Tipo: <class 'int'>\n",
      "Valor: 3 Tipo: <class 'int'>\n",
      "Valor: 4 Tipo: <class 'int'>\n",
      "Valor: 5 Tipo: <class 'int'>\n",
      "Valor: 6 Tipo: <class 'int'>\n"
     ]
    }
   ],
   "source": [
    "s = '123456'\n",
    "type(s) #string\n",
    "\n",
    "for elemento in map(int, s):\n",
    "  print(f'Valor: {elemento} Tipo: {type(elemento)}')"
   ]
  },
  {
   "cell_type": "code",
   "execution_count": 26,
   "id": "2d65ced7-fc35-4727-8a49-7dce0dbbf954",
   "metadata": {},
   "outputs": [
    {
     "name": "stdout",
     "output_type": "stream",
     "text": [
      "[1, 2, 3, 4, 5]\n"
     ]
    }
   ],
   "source": [
    "lista = [1, 2, 3, 4, 5]\n",
    "print(lista)"
   ]
  },
  {
   "cell_type": "code",
   "execution_count": 27,
   "id": "8742434b-6027-4cac-b280-e0fe2cc1e701",
   "metadata": {},
   "outputs": [
    {
     "data": {
      "text/plain": [
       "[1, 4, 9, 16, 25]"
      ]
     },
     "execution_count": 27,
     "metadata": {},
     "output_type": "execute_result"
    }
   ],
   "source": [
    "list(map(lambda item: item**2, lista))"
   ]
  },
  {
   "cell_type": "code",
   "execution_count": null,
   "id": "95a6f426-0d77-4d84-be19-9f06881a299c",
   "metadata": {},
   "outputs": [],
   "source": [
    "\"\"\"\n",
    "FUNCIÓN FILTER\n",
    "\n",
    "Esta permite seleccionar elementos de una colección que cumplan con una condición. \n",
    "Esta condición se expresa como una función que retorna un valor lógico a partir de cada elemento de la colección.\n",
    "\n",
    "\"\"\"\n"
   ]
  },
  {
   "cell_type": "code",
   "execution_count": 28,
   "id": "0ddf1c32-0cb5-4f8e-9587-5d0c52c4b4b4",
   "metadata": {},
   "outputs": [
    {
     "name": "stdout",
     "output_type": "stream",
     "text": [
      "[0, 2, 4]\n"
     ]
    }
   ],
   "source": [
    "lista = list(range(5))\n",
    "lista = list(filter(lambda x : x % 2 == 0, lista))\n",
    "\n",
    "print(lista)"
   ]
  },
  {
   "cell_type": "code",
   "execution_count": 29,
   "id": "23be1f15-e84e-4d2d-9a99-f305a2b24950",
   "metadata": {},
   "outputs": [
    {
     "name": "stdout",
     "output_type": "stream",
     "text": [
      "['M', 'A', 'Y', 'Ú', 'S', 'C', 'U', 'L', 'A']\n"
     ]
    }
   ],
   "source": [
    "mayúsculas =  list(filter(lambda c : c.isupper(), 'MmAiYnÚúSsCcUuLlAa'))\n",
    "\n",
    "print(mayúsculas)"
   ]
  },
  {
   "cell_type": "code",
   "execution_count": 30,
   "id": "0a11d638-219d-4b6e-822b-0cc6386f853d",
   "metadata": {},
   "outputs": [
    {
     "data": {
      "text/plain": [
       "'M,A,Y,Ú,S,C,U,L,A'"
      ]
     },
     "execution_count": 30,
     "metadata": {},
     "output_type": "execute_result"
    }
   ],
   "source": [
    "\",\".join(mayúsculas) #Con String se suele necesitar volver unir los elementos de la cadena de texto"
   ]
  },
  {
   "cell_type": "code",
   "execution_count": 31,
   "id": "de0a0522-47c4-438a-a236-579a705f1295",
   "metadata": {},
   "outputs": [
    {
     "data": {
      "text/plain": [
       "'MAYÚSCULA'"
      ]
     },
     "execution_count": 31,
     "metadata": {},
     "output_type": "execute_result"
    }
   ],
   "source": [
    "\"\".join(mayúsculas)"
   ]
  }
 ],
 "metadata": {
  "kernelspec": {
   "display_name": "Python 3 (ipykernel)",
   "language": "python",
   "name": "python3"
  },
  "language_info": {
   "codemirror_mode": {
    "name": "ipython",
    "version": 3
   },
   "file_extension": ".py",
   "mimetype": "text/x-python",
   "name": "python",
   "nbconvert_exporter": "python",
   "pygments_lexer": "ipython3",
   "version": "3.12.8"
  }
 },
 "nbformat": 4,
 "nbformat_minor": 5
}
