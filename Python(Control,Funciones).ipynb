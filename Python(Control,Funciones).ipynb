{
 "cells": [
  {
   "cell_type": "code",
   "execution_count": 3,
   "id": "0a5e8618-4cbe-4fe8-80e8-88b7e39c4bdf",
   "metadata": {},
   "outputs": [
    {
     "name": "stdin",
     "output_type": "stream",
     "text": [
      " 2\n"
     ]
    },
    {
     "name": "stdout",
     "output_type": "stream",
     "text": [
      "2 es un número positivo.\n"
     ]
    }
   ],
   "source": [
    "#Control de flujo: Expresiones condicionales\n",
    "'''\n",
    "if condicion:\n",
    "    bloque\n",
    "'''     "
   ]
  },
  {
   "cell_type": "code",
   "execution_count": 12,
   "id": "405b63c7-4c04-43f6-9b17-a8100c918bff",
   "metadata": {},
   "outputs": [
    {
     "name": "stdin",
     "output_type": "stream",
     "text": [
      "Ingrese un número 34\n"
     ]
    },
    {
     "name": "stdout",
     "output_type": "stream",
     "text": [
      "34 es un número positivo.\n",
      "Sí\n"
     ]
    }
   ],
   "source": [
    "x = input(\"Ingrese un número\")\n",
    "if x.isnumeric():\n",
    "    if int(x)>0:\n",
    "        print(f'{x} es un número positivo.')\n",
    "        if (10>2):\n",
    "            print('Sí')"
   ]
  },
  {
   "cell_type": "code",
   "execution_count": 15,
   "id": "1bf5d772-99f4-47d9-9899-f88cd9ddad60",
   "metadata": {},
   "outputs": [
    {
     "name": "stdin",
     "output_type": "stream",
     "text": [
      "Ingrese un número -1\n"
     ]
    },
    {
     "name": "stdout",
     "output_type": "stream",
     "text": [
      "-1 NO es un número entero.\n"
     ]
    }
   ],
   "source": [
    "'''\n",
    "if condicion :\n",
    "   bloque 1\n",
    "else:\n",
    "   bloque 2\n",
    "'''\n",
    "\n",
    "# Código que evalúa si un dato es un número entero, y si lo es, si es par o impar.\n",
    "\n",
    "x = input (\"Ingrese un número\")\n",
    "\n",
    "if x.isdigit():\n",
    "    if int(x)% 2 == 0:\n",
    "        print(f'{x} es número par.')\n",
    "    else:\n",
    "        print (f'{x} no es un número par.')\n",
    "else:\n",
    "    print(f'{x} NO es un número entero.')\n",
    "    \n"
   ]
  },
  {
   "cell_type": "code",
   "execution_count": 17,
   "id": "c642ee29-1575-462b-b43f-7b5aca8062fd",
   "metadata": {},
   "outputs": [
    {
     "name": "stdin",
     "output_type": "stream",
     "text": [
      " -231\n"
     ]
    },
    {
     "name": "stdout",
     "output_type": "stream",
     "text": [
      "-231 NO es un número entero.\n"
     ]
    }
   ],
   "source": [
    "'''\n",
    "if condicion1 :\n",
    "   bloque 1\n",
    "elif condicion2:\n",
    "   bloque 2\n",
    "else:\n",
    "   bloque 3\n",
    "'''\n",
    "\n",
    "# Código para evaluar si un dato es un número entero, y si lo es, evaluar si es divisible por 2, 3, 5 o por ninguno.\n",
    "\n",
    "x = input()\n",
    "if x.isdigit():\n",
    "  if int(x) % 2 == 0:\n",
    "    print(f'{x}  es divisible por 2.')\n",
    "  elif int(x) % 3 == 0:\n",
    "    # <--- La indentación del elif también está al mismo nivel del if original.\n",
    "    print(f'{x} es divisible por 3.')\n",
    "  elif int(x) % 5 == 0:\n",
    "    # <--- En cada uno de los elif declarados.\n",
    "    print(f'{x} es divisible por 5.')\n",
    "  else:\n",
    "    # <--- El else también está igualmente indentado, y debe ser el último bloque.\n",
    "    print(f'{x} NO es divisible por 2, 3 o 5.')\n",
    "else:\n",
    "  print(f'{x} NO es un número entero.')"
   ]
  },
  {
   "cell_type": "code",
   "execution_count": 18,
   "id": "583ec618-be61-41ef-af3c-aab75569b793",
   "metadata": {},
   "outputs": [
    {
     "name": "stdout",
     "output_type": "stream",
     "text": [
      "No\n",
      "No\n"
     ]
    }
   ],
   "source": [
    "#Existe una versión simplificada para la asignacion de valores a variables dependiendo de una condición lógica. \n",
    "\n",
    "# Asignación condicional usando if else\n",
    "condición = False\n",
    "\n",
    "if condición:\n",
    "  a = 'Sí'\n",
    "else:\n",
    "  a = 'No'\n",
    "print(a)\n",
    "\n",
    "#Asignación condicional con operador ternario\n",
    "\n",
    "a = 'Sí' if condición else 'No'\n",
    "print(a)"
   ]
  },
  {
   "cell_type": "code",
   "execution_count": 20,
   "id": "01025ffc-722d-4b11-b92b-196875a32ce5",
   "metadata": {},
   "outputs": [
    {
     "name": "stdout",
     "output_type": "stream",
     "text": [
      "0\n",
      "1\n",
      "4\n",
      "9\n",
      "16\n",
      "[0, 1, 4, 9, 16]\n"
     ]
    }
   ],
   "source": [
    "#BUCLES \n",
    "\n",
    "'''\n",
    "Repetir un bloque indeterminado de veces. \n",
    "\n",
    "While: El while funciona como una expresión if, con la diferencia que el bloque definido dentro de una expresión while\n",
    "se repite indefinidamente mientras una condición lógica se cumpla. Para evitar bucles infinitos y que el programa no se detenga, \n",
    "es necesario que dentro del while se altere alguna variable que componga la condición lógica, y que esta pueda conducir \n",
    "a un resultado False en algún momento de la ejecución.\n",
    "'''\n",
    "\n",
    "lista = []\n",
    "i = 0\n",
    "while i<5:\n",
    "    lista.append(i*i)\n",
    "    print(i*i)\n",
    "    i = i + 1\n",
    "print(lista)"
   ]
  },
  {
   "cell_type": "code",
   "execution_count": 21,
   "id": "b0ad9734-1237-45a1-8e14-8b105c28ab3e",
   "metadata": {},
   "outputs": [
    {
     "name": "stdout",
     "output_type": "stream",
     "text": [
      "[16, 9, 4, 1, 0]\n"
     ]
    }
   ],
   "source": [
    "#Código para llenar lista del cuadrado de números enteros menores que 5, empezando en 4 y retrocediendo hasta 0.\n",
    "\n",
    "lista = []\n",
    "i = 4\n",
    "while i >= 0:\n",
    "    lista.append(i*i)\n",
    "    i = i-1\n",
    "print(lista)"
   ]
  },
  {
   "cell_type": "code",
   "execution_count": 22,
   "id": "3573663b-b222-4148-bd3d-0e8caaa1ea20",
   "metadata": {},
   "outputs": [
    {
     "name": "stdout",
     "output_type": "stream",
     "text": [
      "i es igual a: 1\n",
      "i es igual a: 2\n",
      "i es igual a: 3\n",
      "i es igual a: 4\n"
     ]
    }
   ],
   "source": [
    "i = 1\n",
    "while i < 5:\n",
    "    print('i es igual a: {}'.format(i))\n",
    "    i = i + 1"
   ]
  },
  {
   "cell_type": "code",
   "execution_count": 23,
   "id": "892fe83c-6225-4ef8-9024-9f9c2ceb3c23",
   "metadata": {},
   "outputs": [
    {
     "name": "stdout",
     "output_type": "stream",
     "text": [
      "1\n",
      "3\n",
      "4\n",
      "5\n",
      "6\n",
      "Fuera del bucle\n"
     ]
    }
   ],
   "source": [
    "'''\n",
    "continue: permite saltarse el fragmento de código restante de la iteración y evaluar la siguiente.\n",
    "break: permite acabar el bucle y continuar con el código justo después.\n",
    "'''\n",
    "i = 0\n",
    "while (True): # Usar con PRECAUCIÓN. Una expresión como esta puede producir un bucle infinito.\n",
    "  i += 1      # Cambiar el objeto para que la condición evaluada también varíe.\n",
    "\n",
    "  if (i == 2):\n",
    "    continue  # Lo que resta del bucle no se ejecuta si se añade un continue.\n",
    "\n",
    "  print(i)\n",
    "  if (i > 5):\n",
    "    break     # El bucle termina inmediatamente.\n",
    "\n",
    "print('Fuera del bucle')"
   ]
  }
 ],
 "metadata": {
  "kernelspec": {
   "display_name": "Python 3 (ipykernel)",
   "language": "python",
   "name": "python3"
  },
  "language_info": {
   "codemirror_mode": {
    "name": "ipython",
    "version": 3
   },
   "file_extension": ".py",
   "mimetype": "text/x-python",
   "name": "python",
   "nbconvert_exporter": "python",
   "pygments_lexer": "ipython3",
   "version": "3.12.8"
  }
 },
 "nbformat": 4,
 "nbformat_minor": 5
}
