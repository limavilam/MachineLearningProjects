{
 "cells": [
  {
   "cell_type": "code",
   "execution_count": 5,
   "id": "2cb10b64-ad54-4e66-a36f-ee6d576db938",
   "metadata": {},
   "outputs": [
    {
     "name": "stdout",
     "output_type": "stream",
     "text": [
      "Python 3.12.2\n"
     ]
    }
   ],
   "source": [
    "!python --version"
   ]
  },
  {
   "cell_type": "code",
   "execution_count": 19,
   "id": "8565bb67-6e79-418a-ad28-a872bb08bc53",
   "metadata": {},
   "outputs": [
    {
     "name": "stdin",
     "output_type": "stream",
     "text": [
      "Introduzca su nombre Lina\n"
     ]
    },
    {
     "name": "stdout",
     "output_type": "stream",
     "text": [
      "Hola, Lina\n",
      "Hola Lina\n"
     ]
    }
   ],
   "source": [
    "##Acciones de entrada y salida\n",
    "nombre = input ('Introduzca su nombre')\n",
    "#También puedo imprimir print ( 'Hola ' + nombre)\n",
    "print (f'Hola, {nombre}') ##Es necesaria la f\n",
    "print ( 'Hola ' + nombre)"
   ]
  },
  {
   "cell_type": "code",
   "execution_count": 23,
   "id": "cca89971-26d2-4023-a199-2650e94cb02d",
   "metadata": {},
   "outputs": [
    {
     "name": "stdout",
     "output_type": "stream",
     "text": [
      "100\n",
      "Python\n"
     ]
    }
   ],
   "source": [
    "##Variables: \n",
    "'''\n",
    "Python es debilmente tipado: Esto quiere decir que para almacenar un dato en una variable, \n",
    "no se requiere definir de antemano qué tipo de dato va a representar, simplificando la definición de variables para escribir \n",
    "código rápidamente.\n",
    "\n",
    "Ojo: Python reconoce entre minúsculas y mayúsculas.\n",
    "'''\n",
    "\n",
    "a = 100\n",
    "print(a)\n",
    "\n",
    "a = 'Python'\n",
    "print (a) ##Ahora a es python y el tipo de dato es diferente\n"
   ]
  },
  {
   "cell_type": "code",
   "execution_count": 77,
   "id": "a52e2adc-dd8b-4c7a-a261-0f013af46f72",
   "metadata": {},
   "outputs": [
    {
     "name": "stdout",
     "output_type": "stream",
     "text": [
      "<class 'str'>\n",
      "<class 'int'>\n",
      "La ciencia es divertida Lina\n",
      "La ciencia es divertida 2\n",
      "La ciencia es divertida Lina La ciencia es divertida Lina La ciencia es divertida Lina \n",
      "Quedan 100 minutos.\n",
      "Quedan 100 minutos.\n",
      "Quedan 100 minutos.\n",
      "Quedan 100 minutos.\n"
     ]
    }
   ],
   "source": [
    "##Tipos de datos\n",
    "'''\n",
    "En Python, los tipos de dato no son definidos explícitamente, pero siempre están presentes en las variables que declaramos y\n",
    "es necesario tenerlos en cuenta. En particular, el tipo de dato define las operaciones válidas entre datos del mismo tipo.\n",
    "\n",
    "Ojo se usa la función type\n",
    "'''\n",
    "tipo_dato = 'La ciencia es divertida'\n",
    "tipo_numerico = 2\n",
    "\n",
    "print (type(tipo_dato))\n",
    "print (type (tipo_numerico))\n",
    "\n",
    "#Concatenación\n",
    "\n",
    "#print ({tipo_dato} + {nombre}) No es correcto, no da soporte en conjuntos\n",
    "print (tipo_dato + ' ' + nombre)\n",
    "#print (tipo_dato + ' ' + tipo_numerico) No es correcto, porque estamos mezclando dos tipos de datos\n",
    "print (tipo_dato + ' ' + str(tipo_numerico)) #Especie de casteo \n",
    "\n",
    "#Repetición\n",
    "\n",
    "print ((tipo_dato + ' ' + nombre + ' ')*3)\n",
    "\n",
    "\n",
    "# Formato %\n",
    "\n",
    "num = 100\n",
    "\n",
    "print(\"Quedan \" + str(num) + \" minutos.\")\n",
    "print(\"Quedan %d minutos.\" % num)\n",
    "print(\"Quedan {} minutos.\".format(num)) #.format(), que permite reemplazar fragmentos encerrados en llaves curvadas {} por variables de cualquier tipo pasadas como parámetros de la función\n",
    "print(f'Quedan {num} minutos.') #f como prefijo de una cadena de texto para interpretar los fragmentos encerrados en llaves curvadas {} como fragmentos de código de forma directa."
   ]
  },
  {
   "cell_type": "code",
   "execution_count": null,
   "id": "3ea34df2-6329-45b6-af1a-683146736eeb",
   "metadata": {},
   "outputs": [],
   "source": [
    "'''\n",
    "s una variable con un string:\n",
    "\n",
    "s.lower() : Retorna la cadena con todos los caracteres alfabéticos en minúscula.\n",
    "s.upper() : Retorna la cadena con todos los caracteres alfabéticos en mayúscula.\n",
    "s.replace(a, b) : Reemplaza las subcadenas iguales a la cadena a con el valor de la cadena b.\n",
    "s.strip() : Retorna la cadena con todos los espacios en blanco al principio y al final removidos.\n",
    "s.islower() : Determina si la cadena está compuesta solo por caracteres en mayúscula.\n",
    "s.isupper() : Determina si la cadena está compuesta solo por caracteres en mayúscula.\n",
    "s.isdigit() : Determina si la cadena está compuesta solo por dígitos del 0 al 9.\n",
    "s.isalpha() : Determina si la cadena está compuesta solo por caracteres alfabéticos.\n",
    "\n",
    "'''"
   ]
  },
  {
   "cell_type": "code",
   "execution_count": 91,
   "id": "4ac1c642-1c0c-4e26-a400-cea3a76df1e8",
   "metadata": {},
   "outputs": [
    {
     "name": "stdout",
     "output_type": "stream",
     "text": [
      "one two\n",
      "two one\n"
     ]
    }
   ],
   "source": [
    "#Formatos, más sobre ellos: https://pyformat.info\n",
    "\n",
    "print('{} {}'.format('one', 'two'))\n",
    "print('{1} {0}'.format('one', 'two'))"
   ]
  },
  {
   "cell_type": "code",
   "execution_count": 105,
   "id": "c74e00ad-d571-474b-9da3-924ff820ebef",
   "metadata": {},
   "outputs": [
    {
     "data": {
      "text/plain": [
       "'B@buino'"
      ]
     },
     "execution_count": 105,
     "metadata": {},
     "output_type": "execute_result"
    }
   ],
   "source": [
    "s = 'Babuino'\n",
    "s.replace('a', '@')\n",
    "#print (s.replace ('a', '@'))\n",
    "#s.islower() --Retorna el boolean"
   ]
  },
  {
   "cell_type": "code",
   "execution_count": null,
   "id": "000f41c3-4518-4b7c-abd9-93b192f472e7",
   "metadata": {},
   "outputs": [],
   "source": [
    "#Valores numéricos\n",
    "\n",
    "'''\n",
    "Números enteros. (int)\n",
    "Números decimales. (float)\n",
    "Números complejos. (complex)\n",
    "\n",
    "Existen varios operadores matemáticos para estos valores numéricos. Estos son:\n",
    "Adición: +\n",
    "Substracción: -\n",
    "Multiplicación: *\n",
    "División: /\n",
    "Módulo o residuo: %\n",
    "Exponenciación: **\n",
    "División y función piso: //\n",
    "Además, se pueden usar paréntesis para escribir operaciones compuestas y modificar la precedencia de los operadores.\n",
    "'''\n"
   ]
  },
  {
   "cell_type": "code",
   "execution_count": 109,
   "id": "0cccced5-bf0b-4307-a066-f9e2e0e21af6",
   "metadata": {},
   "outputs": [
    {
     "name": "stdout",
     "output_type": "stream",
     "text": [
      "15 // 2 = 7\n",
      "15 % 2 = 1\n"
     ]
    }
   ],
   "source": [
    "print(f'15 // 2 = {15  //  2}')\n",
    "print(f'15 % 2 = {15  %  2}')"
   ]
  },
  {
   "cell_type": "code",
   "execution_count": null,
   "id": "800d2faa-4b09-4cd7-bf3c-069b56e8b014",
   "metadata": {},
   "outputs": [],
   "source": [
    "#Valores lógicos\n",
    "\n",
    "'''\n",
    "También existen operadores lógicos usados para expresiones booleanas compuestas. Estos son:\n",
    "AND lógico. and\n",
    "OR lógico. or\n",
    "NOT. negación. not\n",
    "'''"
   ]
  },
  {
   "cell_type": "code",
   "execution_count": 117,
   "id": "73fc651c-100b-4917-a8a6-3e8969530ca4",
   "metadata": {},
   "outputs": [
    {
     "name": "stdout",
     "output_type": "stream",
     "text": [
      "True\n",
      "Operador is\n",
      "False\n",
      "True\n"
     ]
    }
   ],
   "source": [
    "a = True\n",
    "b = False\n",
    "\n",
    "# Operaciones compuestas\n",
    "\n",
    "print( (a and b) or (not b) )\n",
    "\n",
    "#Operador is: Valida la identidad de un objeto, ojo es diferente a == que valida la igualdad\n",
    "\n",
    "print('Operador is')\n",
    "c = 1.0\n",
    "d = 1\n",
    "\n",
    "print(c is d) # No tienen el mismo tipo de dato y por lo tanto son objetos distintos.\n",
    "print(c == d) # Contienen el mismo valor al verificar su igualdad.\n"
   ]
  },
  {
   "cell_type": "code",
   "execution_count": null,
   "id": "750b2780-4b98-408e-8c21-8620bb39a282",
   "metadata": {},
   "outputs": [],
   "source": [
    "#Colecciones\n",
    "\n",
    "'''\n",
    "Las colecciones son tipos de datos que permiten almacenar múltiples valores en una misma variable. Python tiene 3 estructuras \n",
    "definidas como primitivas por defecto del lenguaje, que pueden ser definidas con sintaxis especial. \n",
    "Para estructuras más complejas, se suele recurrir a la librería estándar de Python o librerías especializadas como NumPy y Pandas \n",
    "- Listas\n",
    "- Tuplas\n",
    "- Conjuntos\n",
    "- Diccionarios\n",
    "'''\n"
   ]
  },
  {
   "cell_type": "code",
   "execution_count": 195,
   "id": "3b2bcada-d514-4dd2-af3b-be5b571cd59b",
   "metadata": {},
   "outputs": [
    {
     "name": "stdout",
     "output_type": "stream",
     "text": [
      "[1, 2, 3, 4, 5]\n",
      "[1, 'Hola', 4.5]\n",
      "[1, 2.5, [4, 5, 6, 7], 'Fin']\n",
      "<class 'list'>\n",
      "Concatenación\n",
      "[1, 2, 3, 'a', 'b', 'c']\n",
      "Repetición\n",
      "[1, 2, 3, 1, 2, 3, 1, 2, 3]\n",
      "Lista:c,a,b,x\n",
      "Lista con insert:e,c,a,b,x\n",
      "Lista con remove de X : e,c,a,b\n",
      "Lista con remove usando del : e,c,a\n",
      "['e', 'c', 'a']\n",
      "c\n",
      "['e', 'Nuevo valor']\n",
      "True\n",
      "10\n",
      "80\n",
      "[10, 20, 30]\n",
      "[10, 30, 50, 70]\n",
      "[10, 20, 30]\n",
      "[40, 50, 60, 70, 80]\n",
      "[80, 70, 60, 50, 40, 30, 20, 10]\n"
     ]
    }
   ],
   "source": [
    "#Listas\n",
    "\n",
    "'''\n",
    "Existen dos formas de declarar listas en Python:\n",
    "Con llaves cuadradas.    Ejemplo: l = []\n",
    "Con la función list.      Ejemplo: l = list()\n",
    "\n",
    "'''\n",
    "\n",
    "l = [1, 2, 3, 4, 5]\n",
    "print(l)\n",
    "type(l)\n",
    "\n",
    "m = [1, 'Hola', 4.5] #El tipo de dato puede ser diferente\n",
    "print(m)\n",
    "type(m)\n",
    "\n",
    "lista_anidada = [1, 2.5, [4, 5, 6, 7], \"Fin\"] #Puede tener listas anidadas\n",
    "print(lista_anidada)\n",
    "print(type(lista_anidada))\n",
    "\n",
    "#Se pueden realizar operaciones como concatenación y repeticiones \n",
    "\n",
    "l_a = [1, 2, 3]\n",
    "l_b = ['a', 'b', 'c']\n",
    "\n",
    "print ('Concatenación')\n",
    "print(l_a + l_b)\n",
    "print ('Repetición')\n",
    "print(l_a * 3)\n",
    "\n",
    "'''\n",
    "Una vez se declara una lista, su contenido puede variar mediante métodos predeterminados.\n",
    "Estos son algunos de los métodos más comunes para ejecutar en listas:\n",
    "\n",
    "l.append(e) : Agrega el elemento e al final de la lista.\n",
    "l.remove(e) : Elimina la primera aparición del elemento e de la lista.\n",
    "l.insert(i, e) : Agrega el elemento e a la lista en la posición i.\n",
    "l.pop(i) : Elimina y retorna el elemento en la posición i.\n",
    "l.sort() : Ordena los elementos de menor a mayor. Con el argumento reverse = True se puede indicar el orden contrario.\n",
    "l.clear(): Vacía la lista.\n",
    "l.index(e): Retorna la posición del elemento e.\n",
    "l.copy(): Crea y retorna una copia de la lista.\n",
    "\n",
    "'''\n",
    "\n",
    "lista = ['c', 'a', 'b', 'x']\n",
    "print(\"Lista:\"+ \",\".join(lista))\n",
    "\n",
    "lista.insert(0 , 'e')\n",
    "print(\"Lista con insert:\" + \",\".join(lista))\n",
    "\n",
    "lista.remove('x')\n",
    "print(\"Lista con remove de X : \" + ','.join(lista))\n",
    "\n",
    "# Otra forma de eliminar un elemento de la lista por su índice\n",
    "del lista[3]\n",
    "print(\"Lista con remove usando del : \" + ','.join(lista))\n",
    "\n",
    "print(lista)\n",
    "\n",
    "eliminado = lista.pop(1) # Elimina un elemento por su índice y retorna su valor\n",
    "print(eliminado)\n",
    "\n",
    "lista[1] = 'Nuevo valor'\n",
    "print(lista)\n",
    "\n",
    "#El operador in es muy usado para saber si pertenece un elemento a una lista\n",
    "print('e' in lista)\n",
    "\n",
    "'''\n",
    "Además de con métodos, los elementos contenidos en una lista pueden ser accedidos por medio de su índice o posición en la lista.\n",
    "Para esto se usa la sintaxis de llaves cuadradas [ y ]. Dentro de las llaves se indica el índice o el rango de elementos que se\n",
    "desea retornar o modificar, siendo el primer elemento el del índice  0 . Las formas de usar estos índices es la siguiente:\n",
    "\n",
    "l[i]: Se retorna el elemento en la posición i.\n",
    "l[-i]: Si se indican elementos negativos el conteo de la posición se hace desde el final de la lista.\n",
    "l[a:b]: Se retornan los elementos desde la posición a (incluida) hasta la posición b (excluida).\n",
    "l[a:b:n]: Se retornan los elementos desde la posición a (incluida) hasta la posición b (excluida), dando saltos cada n elementos.\n",
    "\n",
    "Los mismos métodos funcionan para listas anidadas\n",
    "'''\n",
    "lista2 = [10, 20, 30, 40, 50, 60, 70, 80]\n",
    "print(lista2[0]) # El elemento en el índice 0 es el de la primera posición.\n",
    "print(lista2[-1]) # El elemento en la posición -1 es el último de la lista.\n",
    "print(lista2[0:3])\n",
    "print(lista2[0:7:2])\n",
    "print(lista2[:3]) # Si no se agrega el inicio, Python lo interpreta como el inicio de la lista.\n",
    "print(lista2[3:]) # Si no se agrega el final, Python lo interpreta como el final de la lista.\n",
    "print(lista2[::-1]) #Se pueden omitir ambos. Si el paso es negativo, se realiza la iteración desde el final.\n"
   ]
  },
  {
   "cell_type": "code",
   "execution_count": 203,
   "id": "44f5fe95-fb53-4649-8a08-38f30363e75a",
   "metadata": {},
   "outputs": [
    {
     "name": "stdout",
     "output_type": "stream",
     "text": [
      "A\n",
      "Univer\n"
     ]
    }
   ],
   "source": [
    "'''\n",
    "OJO: Las cadenas de texto pueden interpretarse como listas de caracteres.\n",
    "Se pueden usar las operaciones con índices de las listas para trocear subcadenas de texto directamente.\n",
    "'''\n",
    "\n",
    "u = \"Análisis y Visualización de Datos con Universidad Nacional - UNAL\"\n",
    "print (u[0])\n",
    "print (u[38:44])"
   ]
  },
  {
   "cell_type": "code",
   "execution_count": 211,
   "id": "c6c34299-388f-488d-914d-32c3e296b294",
   "metadata": {},
   "outputs": [
    {
     "name": "stdout",
     "output_type": "stream",
     "text": [
      "(0, [1, 2, 3], 'cadena')\n"
     ]
    }
   ],
   "source": [
    "#Tuplas\n",
    "\n",
    "'''\n",
    "Las tuplas son casi idénticas a las listas. La única diferencia importante entre ambos tipos de dato es que las tuplas son inmutables.\n",
    "Esto quiere decir que una vez que son declaradas, no es posible modificar sus valores.\n",
    "Una variable con una tupla puede recibir valores distintos, pero los elementos particulares de la tupla son\n",
    "inalterables en toda la ejecución del programa.\n",
    "Las tuplas son declaradas con la sintaxis de paréntesis ( y ), separando los elementos con comas ,. \n",
    "Al igual que con las listas, los tipos de dato de los elementos de una tupla pueden ser distintos.\n",
    "'''\n",
    "\n",
    "tupla = (1, 2, 3)\n",
    "tupla[0]\n",
    "#tupla[0] = 'Nuevo valor' --> # las tuplas son inmutables, no se puede reasignar.\n",
    "t = ( 0, [1,2,3], 'cadena') #Puede contener varios tipos de datos\n",
    "print(t)"
   ]
  },
  {
   "cell_type": "code",
   "execution_count": null,
   "id": "bc6f9804-65d2-46bc-af75-660a208e17fd",
   "metadata": {},
   "outputs": [],
   "source": [
    "#Sets , Conjuntos\n"
   ]
  }
 ],
 "metadata": {
  "kernelspec": {
   "display_name": "Python 3 (ipykernel)",
   "language": "python",
   "name": "python3"
  },
  "language_info": {
   "codemirror_mode": {
    "name": "ipython",
    "version": 3
   },
   "file_extension": ".py",
   "mimetype": "text/x-python",
   "name": "python",
   "nbconvert_exporter": "python",
   "pygments_lexer": "ipython3",
   "version": "3.12.2"
  }
 },
 "nbformat": 4,
 "nbformat_minor": 5
}
